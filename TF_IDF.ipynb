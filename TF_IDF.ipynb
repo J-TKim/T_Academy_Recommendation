{
  "nbformat": 4,
  "nbformat_minor": 0,
  "metadata": {
    "colab": {
      "name": "TF-IDF.ipynb",
      "provenance": [],
      "collapsed_sections": [],
      "machine_shape": "hm"
    },
    "kernelspec": {
      "name": "python3",
      "display_name": "Python 3"
    }
  },
  "cells": [
    {
      "cell_type": "code",
      "metadata": {
        "colab": {
          "base_uri": "https://localhost:8080/"
        },
        "id": "DdOW0DA_-8ur",
        "outputId": "12068360-fae0-477c-c902-c6ae2ab42b35"
      },
      "source": [
        "docs = [\r\n",
        "    '먹고 싶은 사과', # 문서0\r\n",
        "    '먹고 싶은 바나나', # 문서1\r\n",
        "    '길고 노란 바나나 바나나', # 문서2\r\n",
        "    '저는 과일이 좋아요' # 문서3\r\n",
        "]\r\n",
        "docs"
      ],
      "execution_count": 1,
      "outputs": [
        {
          "output_type": "execute_result",
          "data": {
            "text/plain": [
              "['먹고 싶은 사과', '먹고 싶은 바나나', '길고 노란 바나나 바나나', '저는 과일이 좋아요']"
            ]
          },
          "metadata": {
            "tags": []
          },
          "execution_count": 1
        }
      ]
    },
    {
      "cell_type": "code",
      "metadata": {
        "colab": {
          "base_uri": "https://localhost:8080/"
        },
        "id": "Bmg2Rvov_LS0",
        "outputId": "ec00dfe6-1baf-4285-fb64-a724be423be3"
      },
      "source": [
        "# CountVectorizer : TF 벡터 생성\r\n",
        "from sklearn.feature_extraction.text import CountVectorizer\r\n",
        "vect = CountVectorizer() # Counter Vectorizer 객체 생성\r\n",
        "vect"
      ],
      "execution_count": 2,
      "outputs": [
        {
          "output_type": "execute_result",
          "data": {
            "text/plain": [
              "CountVectorizer(analyzer='word', binary=False, decode_error='strict',\n",
              "                dtype=<class 'numpy.int64'>, encoding='utf-8', input='content',\n",
              "                lowercase=True, max_df=1.0, max_features=None, min_df=1,\n",
              "                ngram_range=(1, 1), preprocessor=None, stop_words=None,\n",
              "                strip_accents=None, token_pattern='(?u)\\\\b\\\\w\\\\w+\\\\b',\n",
              "                tokenizer=None, vocabulary=None)"
            ]
          },
          "metadata": {
            "tags": []
          },
          "execution_count": 2
        }
      ]
    },
    {
      "cell_type": "code",
      "metadata": {
        "colab": {
          "base_uri": "https://localhost:8080/"
        },
        "id": "Pwx6XwSK_QRr",
        "outputId": "2e538c1b-e5fd-491b-db7b-3335c8d11acc"
      },
      "source": [
        "# 문장을 Counter Vectorizer 형태로 변형\r\n",
        "countvect = vect.fit_transform(docs)\r\n",
        "countvect"
      ],
      "execution_count": 3,
      "outputs": [
        {
          "output_type": "execute_result",
          "data": {
            "text/plain": [
              "<4x9 sparse matrix of type '<class 'numpy.int64'>'\n",
              "\twith 12 stored elements in Compressed Sparse Row format>"
            ]
          },
          "metadata": {
            "tags": []
          },
          "execution_count": 3
        }
      ]
    },
    {
      "cell_type": "code",
      "metadata": {
        "colab": {
          "base_uri": "https://localhost:8080/"
        },
        "id": "AKDEqkHp_vME",
        "outputId": "6f05fe2b-f4e6-473d-a097-f63570a45508"
      },
      "source": [
        "# toarray()를 통해서 문장이 Vector 형태의 값을 얻을 수 있음\r\n",
        "# 하지만, 각 인덱스와 컬럼이 무엇을 의미하는지에 대해서는 알 수가 없음\r\n",
        "# sparse matrix -> numpy\r\n",
        "countvect.toarray()"
      ],
      "execution_count": 4,
      "outputs": [
        {
          "output_type": "execute_result",
          "data": {
            "text/plain": [
              "array([[0, 0, 0, 1, 0, 1, 1, 0, 0],\n",
              "       [0, 0, 0, 1, 1, 0, 1, 0, 0],\n",
              "       [0, 1, 1, 0, 2, 0, 0, 0, 0],\n",
              "       [1, 0, 0, 0, 0, 0, 0, 1, 1]])"
            ]
          },
          "metadata": {
            "tags": []
          },
          "execution_count": 4
        }
      ]
    },
    {
      "cell_type": "code",
      "metadata": {
        "colab": {
          "base_uri": "https://localhost:8080/"
        },
        "id": "4tlpEpk__-S7",
        "outputId": "e35ad1ea-2acb-437b-f18b-3ac666de670f"
      },
      "source": [
        "vect.vocabulary_"
      ],
      "execution_count": 5,
      "outputs": [
        {
          "output_type": "execute_result",
          "data": {
            "text/plain": [
              "{'과일이': 0,\n",
              " '길고': 1,\n",
              " '노란': 2,\n",
              " '먹고': 3,\n",
              " '바나나': 4,\n",
              " '사과': 5,\n",
              " '싶은': 6,\n",
              " '저는': 7,\n",
              " '좋아요': 8}"
            ]
          },
          "metadata": {
            "tags": []
          },
          "execution_count": 5
        }
      ]
    },
    {
      "cell_type": "code",
      "metadata": {
        "colab": {
          "base_uri": "https://localhost:8080/"
        },
        "id": "9H_Y3e5sALDT",
        "outputId": "9600cacb-63dc-408b-9a28-355aed57730c"
      },
      "source": [
        "# sorted라는 함수를 통해서 단어를 정렬\r\n",
        "sorted(vect.vocabulary_)"
      ],
      "execution_count": 6,
      "outputs": [
        {
          "output_type": "execute_result",
          "data": {
            "text/plain": [
              "['과일이', '길고', '노란', '먹고', '바나나', '사과', '싶은', '저는', '좋아요']"
            ]
          },
          "metadata": {
            "tags": []
          },
          "execution_count": 6
        }
      ]
    },
    {
      "cell_type": "code",
      "metadata": {
        "colab": {
          "base_uri": "https://localhost:8080/",
          "height": 167
        },
        "id": "CRm7FPTVARDK",
        "outputId": "0ac76058-c139-46c2-9a3f-d82d65e1f9d4"
      },
      "source": [
        "import pandas as pd\r\n",
        "countvect_df = pd.DataFrame(countvect.toarray(), columns=sorted(vect.vocabulary_))\r\n",
        "countvect_df.index = ['문서1', '문서2', '문서3', '문서4']\r\n",
        "countvect_df"
      ],
      "execution_count": 7,
      "outputs": [
        {
          "output_type": "execute_result",
          "data": {
            "text/html": [
              "<div>\n",
              "<style scoped>\n",
              "    .dataframe tbody tr th:only-of-type {\n",
              "        vertical-align: middle;\n",
              "    }\n",
              "\n",
              "    .dataframe tbody tr th {\n",
              "        vertical-align: top;\n",
              "    }\n",
              "\n",
              "    .dataframe thead th {\n",
              "        text-align: right;\n",
              "    }\n",
              "</style>\n",
              "<table border=\"1\" class=\"dataframe\">\n",
              "  <thead>\n",
              "    <tr style=\"text-align: right;\">\n",
              "      <th></th>\n",
              "      <th>과일이</th>\n",
              "      <th>길고</th>\n",
              "      <th>노란</th>\n",
              "      <th>먹고</th>\n",
              "      <th>바나나</th>\n",
              "      <th>사과</th>\n",
              "      <th>싶은</th>\n",
              "      <th>저는</th>\n",
              "      <th>좋아요</th>\n",
              "    </tr>\n",
              "  </thead>\n",
              "  <tbody>\n",
              "    <tr>\n",
              "      <th>문서1</th>\n",
              "      <td>0</td>\n",
              "      <td>0</td>\n",
              "      <td>0</td>\n",
              "      <td>1</td>\n",
              "      <td>0</td>\n",
              "      <td>1</td>\n",
              "      <td>1</td>\n",
              "      <td>0</td>\n",
              "      <td>0</td>\n",
              "    </tr>\n",
              "    <tr>\n",
              "      <th>문서2</th>\n",
              "      <td>0</td>\n",
              "      <td>0</td>\n",
              "      <td>0</td>\n",
              "      <td>1</td>\n",
              "      <td>1</td>\n",
              "      <td>0</td>\n",
              "      <td>1</td>\n",
              "      <td>0</td>\n",
              "      <td>0</td>\n",
              "    </tr>\n",
              "    <tr>\n",
              "      <th>문서3</th>\n",
              "      <td>0</td>\n",
              "      <td>1</td>\n",
              "      <td>1</td>\n",
              "      <td>0</td>\n",
              "      <td>2</td>\n",
              "      <td>0</td>\n",
              "      <td>0</td>\n",
              "      <td>0</td>\n",
              "      <td>0</td>\n",
              "    </tr>\n",
              "    <tr>\n",
              "      <th>문서4</th>\n",
              "      <td>1</td>\n",
              "      <td>0</td>\n",
              "      <td>0</td>\n",
              "      <td>0</td>\n",
              "      <td>0</td>\n",
              "      <td>0</td>\n",
              "      <td>0</td>\n",
              "      <td>1</td>\n",
              "      <td>1</td>\n",
              "    </tr>\n",
              "  </tbody>\n",
              "</table>\n",
              "</div>"
            ],
            "text/plain": [
              "     과일이  길고  노란  먹고  바나나  사과  싶은  저는  좋아요\n",
              "문서1    0   0   0   1    0   1   1   0    0\n",
              "문서2    0   0   0   1    1   0   1   0    0\n",
              "문서3    0   1   1   0    2   0   0   0    0\n",
              "문서4    1   0   0   0    0   0   0   1    1"
            ]
          },
          "metadata": {
            "tags": []
          },
          "execution_count": 7
        }
      ]
    },
    {
      "cell_type": "code",
      "metadata": {
        "colab": {
          "base_uri": "https://localhost:8080/"
        },
        "id": "UdOF4QK1DqAi",
        "outputId": "79b68f41-cc09-4a6a-a6be-f0539f80f545"
      },
      "source": [
        "# 위의 Data Frame 형태의 유사도를 계산\r\n",
        "from sklearn.metrics.pairwise import cosine_similarity\r\n",
        "cosine_similarity(countvect_df, countvect_df)"
      ],
      "execution_count": 8,
      "outputs": [
        {
          "output_type": "execute_result",
          "data": {
            "text/plain": [
              "array([[1.        , 0.66666667, 0.        , 0.        ],\n",
              "       [0.66666667, 1.        , 0.47140452, 0.        ],\n",
              "       [0.        , 0.47140452, 1.        , 0.        ],\n",
              "       [0.        , 0.        , 0.        , 1.        ]])"
            ]
          },
          "metadata": {
            "tags": []
          },
          "execution_count": 8
        }
      ]
    },
    {
      "cell_type": "code",
      "metadata": {
        "colab": {
          "base_uri": "https://localhost:8080/"
        },
        "id": "sEiqU0WWD2Zq",
        "outputId": "3b82bbc0-3183-4c3c-c4a0-202c16c35ba0"
      },
      "source": [
        "# CountVectorizer -> TfidfVectorizer\r\n",
        "from sklearn.feature_extraction.text import TfidfVectorizer\r\n",
        "vect = TfidfVectorizer()\r\n",
        "tfvect = vect.fit(docs)\r\n",
        "tfvect"
      ],
      "execution_count": 9,
      "outputs": [
        {
          "output_type": "execute_result",
          "data": {
            "text/plain": [
              "TfidfVectorizer(analyzer='word', binary=False, decode_error='strict',\n",
              "                dtype=<class 'numpy.float64'>, encoding='utf-8',\n",
              "                input='content', lowercase=True, max_df=1.0, max_features=None,\n",
              "                min_df=1, ngram_range=(1, 1), norm='l2', preprocessor=None,\n",
              "                smooth_idf=True, stop_words=None, strip_accents=None,\n",
              "                sublinear_tf=False, token_pattern='(?u)\\\\b\\\\w\\\\w+\\\\b',\n",
              "                tokenizer=None, use_idf=True, vocabulary=None)"
            ]
          },
          "metadata": {
            "tags": []
          },
          "execution_count": 9
        }
      ]
    },
    {
      "cell_type": "code",
      "metadata": {
        "colab": {
          "base_uri": "https://localhost:8080/",
          "height": 167
        },
        "id": "2zln8oiUEf7K",
        "outputId": "14143fe9-73e1-48b2-a93b-33f051dc206b"
      },
      "source": [
        "tfidv_df = pd.DataFrame(tfvect.transform(docs).toarray(), columns=sorted(vect.vocabulary_))\r\n",
        "tfidv_df.index = ['문서1', '문서2', '문서3', '문서4']\r\n",
        "tfidv_df"
      ],
      "execution_count": 10,
      "outputs": [
        {
          "output_type": "execute_result",
          "data": {
            "text/html": [
              "<div>\n",
              "<style scoped>\n",
              "    .dataframe tbody tr th:only-of-type {\n",
              "        vertical-align: middle;\n",
              "    }\n",
              "\n",
              "    .dataframe tbody tr th {\n",
              "        vertical-align: top;\n",
              "    }\n",
              "\n",
              "    .dataframe thead th {\n",
              "        text-align: right;\n",
              "    }\n",
              "</style>\n",
              "<table border=\"1\" class=\"dataframe\">\n",
              "  <thead>\n",
              "    <tr style=\"text-align: right;\">\n",
              "      <th></th>\n",
              "      <th>과일이</th>\n",
              "      <th>길고</th>\n",
              "      <th>노란</th>\n",
              "      <th>먹고</th>\n",
              "      <th>바나나</th>\n",
              "      <th>사과</th>\n",
              "      <th>싶은</th>\n",
              "      <th>저는</th>\n",
              "      <th>좋아요</th>\n",
              "    </tr>\n",
              "  </thead>\n",
              "  <tbody>\n",
              "    <tr>\n",
              "      <th>문서1</th>\n",
              "      <td>0.00000</td>\n",
              "      <td>0.00000</td>\n",
              "      <td>0.00000</td>\n",
              "      <td>0.526405</td>\n",
              "      <td>0.00000</td>\n",
              "      <td>0.667679</td>\n",
              "      <td>0.526405</td>\n",
              "      <td>0.00000</td>\n",
              "      <td>0.00000</td>\n",
              "    </tr>\n",
              "    <tr>\n",
              "      <th>문서2</th>\n",
              "      <td>0.00000</td>\n",
              "      <td>0.00000</td>\n",
              "      <td>0.00000</td>\n",
              "      <td>0.577350</td>\n",
              "      <td>0.57735</td>\n",
              "      <td>0.000000</td>\n",
              "      <td>0.577350</td>\n",
              "      <td>0.00000</td>\n",
              "      <td>0.00000</td>\n",
              "    </tr>\n",
              "    <tr>\n",
              "      <th>문서3</th>\n",
              "      <td>0.00000</td>\n",
              "      <td>0.47212</td>\n",
              "      <td>0.47212</td>\n",
              "      <td>0.000000</td>\n",
              "      <td>0.74445</td>\n",
              "      <td>0.000000</td>\n",
              "      <td>0.000000</td>\n",
              "      <td>0.00000</td>\n",
              "      <td>0.00000</td>\n",
              "    </tr>\n",
              "    <tr>\n",
              "      <th>문서4</th>\n",
              "      <td>0.57735</td>\n",
              "      <td>0.00000</td>\n",
              "      <td>0.00000</td>\n",
              "      <td>0.000000</td>\n",
              "      <td>0.00000</td>\n",
              "      <td>0.000000</td>\n",
              "      <td>0.000000</td>\n",
              "      <td>0.57735</td>\n",
              "      <td>0.57735</td>\n",
              "    </tr>\n",
              "  </tbody>\n",
              "</table>\n",
              "</div>"
            ],
            "text/plain": [
              "         과일이       길고       노란        먹고  ...        사과        싶은       저는      좋아요\n",
              "문서1  0.00000  0.00000  0.00000  0.526405  ...  0.667679  0.526405  0.00000  0.00000\n",
              "문서2  0.00000  0.00000  0.00000  0.577350  ...  0.000000  0.577350  0.00000  0.00000\n",
              "문서3  0.00000  0.47212  0.47212  0.000000  ...  0.000000  0.000000  0.00000  0.00000\n",
              "문서4  0.57735  0.00000  0.00000  0.000000  ...  0.000000  0.000000  0.57735  0.57735\n",
              "\n",
              "[4 rows x 9 columns]"
            ]
          },
          "metadata": {
            "tags": []
          },
          "execution_count": 10
        }
      ]
    },
    {
      "cell_type": "code",
      "metadata": {
        "colab": {
          "base_uri": "https://localhost:8080/"
        },
        "id": "DJwyF832FLcr",
        "outputId": "20cd4036-ed26-47ba-d900-e5be575692cb"
      },
      "source": [
        "from sklearn.metrics.pairwise import cosine_similarity\r\n",
        "cosine_similarity(tfidv_df, tfidv_df)"
      ],
      "execution_count": 11,
      "outputs": [
        {
          "output_type": "execute_result",
          "data": {
            "text/plain": [
              "array([[1.        , 0.60784064, 0.        , 0.        ],\n",
              "       [0.60784064, 1.        , 0.42980824, 0.        ],\n",
              "       [0.        , 0.42980824, 1.        , 0.        ],\n",
              "       [0.        , 0.        , 0.        , 1.        ]])"
            ]
          },
          "metadata": {
            "tags": []
          },
          "execution_count": 11
        }
      ]
    },
    {
      "cell_type": "code",
      "metadata": {
        "id": "g9Qx9sr4FYWC"
      },
      "source": [
        "from sklearn.feature_extraction.text import TfidfVectorizer\r\n",
        "vect = TfidfVectorizer(max_features=4)\r\n",
        "tfvect = vect.fit(docs)"
      ],
      "execution_count": 12,
      "outputs": []
    },
    {
      "cell_type": "code",
      "metadata": {
        "colab": {
          "base_uri": "https://localhost:8080/",
          "height": 167
        },
        "id": "c2WArTBAF5m7",
        "outputId": "f896d78d-e164-4e7d-a0a6-1fd5f5c73554"
      },
      "source": [
        "tfidv_df = pd.DataFrame(tfvect.transform(docs).toarray(), columns=sorted(vect.vocabulary_))\r\n",
        "tfidv_df.index = '문서1 문서2 문서3 문서4'.split()\r\n",
        "tfidv_df"
      ],
      "execution_count": 13,
      "outputs": [
        {
          "output_type": "execute_result",
          "data": {
            "text/html": [
              "<div>\n",
              "<style scoped>\n",
              "    .dataframe tbody tr th:only-of-type {\n",
              "        vertical-align: middle;\n",
              "    }\n",
              "\n",
              "    .dataframe tbody tr th {\n",
              "        vertical-align: top;\n",
              "    }\n",
              "\n",
              "    .dataframe thead th {\n",
              "        text-align: right;\n",
              "    }\n",
              "</style>\n",
              "<table border=\"1\" class=\"dataframe\">\n",
              "  <thead>\n",
              "    <tr style=\"text-align: right;\">\n",
              "      <th></th>\n",
              "      <th>과일이</th>\n",
              "      <th>먹고</th>\n",
              "      <th>바나나</th>\n",
              "      <th>싶은</th>\n",
              "    </tr>\n",
              "  </thead>\n",
              "  <tbody>\n",
              "    <tr>\n",
              "      <th>문서1</th>\n",
              "      <td>0.0</td>\n",
              "      <td>0.707107</td>\n",
              "      <td>0.00000</td>\n",
              "      <td>0.707107</td>\n",
              "    </tr>\n",
              "    <tr>\n",
              "      <th>문서2</th>\n",
              "      <td>0.0</td>\n",
              "      <td>0.577350</td>\n",
              "      <td>0.57735</td>\n",
              "      <td>0.577350</td>\n",
              "    </tr>\n",
              "    <tr>\n",
              "      <th>문서3</th>\n",
              "      <td>0.0</td>\n",
              "      <td>0.000000</td>\n",
              "      <td>1.00000</td>\n",
              "      <td>0.000000</td>\n",
              "    </tr>\n",
              "    <tr>\n",
              "      <th>문서4</th>\n",
              "      <td>1.0</td>\n",
              "      <td>0.000000</td>\n",
              "      <td>0.00000</td>\n",
              "      <td>0.000000</td>\n",
              "    </tr>\n",
              "  </tbody>\n",
              "</table>\n",
              "</div>"
            ],
            "text/plain": [
              "     과일이        먹고      바나나        싶은\n",
              "문서1  0.0  0.707107  0.00000  0.707107\n",
              "문서2  0.0  0.577350  0.57735  0.577350\n",
              "문서3  0.0  0.000000  1.00000  0.000000\n",
              "문서4  1.0  0.000000  0.00000  0.000000"
            ]
          },
          "metadata": {
            "tags": []
          },
          "execution_count": 13
        }
      ]
    },
    {
      "cell_type": "code",
      "metadata": {
        "colab": {
          "base_uri": "https://localhost:8080/"
        },
        "id": "rSNvk_OdID_J",
        "outputId": "af83a25e-52bd-4c4a-fe3d-e4a92ec4b4b1"
      },
      "source": [
        "from google.colab import drive\r\n",
        "drive.mount('/content/drive')"
      ],
      "execution_count": 14,
      "outputs": [
        {
          "output_type": "stream",
          "text": [
            "Drive already mounted at /content/drive; to attempt to forcibly remount, call drive.mount(\"/content/drive\", force_remount=True).\n"
          ],
          "name": "stdout"
        }
      ]
    },
    {
      "cell_type": "code",
      "metadata": {
        "id": "woqigIbg2J3W"
      },
      "source": [
        "import numpy as np"
      ],
      "execution_count": 15,
      "outputs": []
    },
    {
      "cell_type": "code",
      "metadata": {
        "colab": {
          "base_uri": "https://localhost:8080/"
        },
        "id": "Ucfsf-D3GG3r",
        "outputId": "ef3abbf2-7252-41ec-99da-c45785082d91"
      },
      "source": [
        "import os\r\n",
        "print(os.listdir('/content/drive/MyDrive/Colab_Notebooks/dataset/recommendation/movies/'))"
      ],
      "execution_count": 16,
      "outputs": [
        {
          "output_type": "stream",
          "text": [
            "['movies_metadata.csv', 'ratings.csv']\n"
          ],
          "name": "stdout"
        }
      ]
    },
    {
      "cell_type": "code",
      "metadata": {
        "id": "HjuUKd4WH_9T"
      },
      "source": [
        "path = '/content/drive/MyDrive/Colab_Notebooks/dataset/recommendation/movies/'"
      ],
      "execution_count": 17,
      "outputs": []
    },
    {
      "cell_type": "code",
      "metadata": {
        "colab": {
          "base_uri": "https://localhost:8080/",
          "height": 617
        },
        "id": "0vIWngveIitr",
        "outputId": "7d310957-d79c-4de8-9756-107083fe1110"
      },
      "source": [
        "data = pd.read_csv(path + 'movies_metadata.csv', low_memory=False)\r\n",
        "data.head()"
      ],
      "execution_count": 18,
      "outputs": [
        {
          "output_type": "execute_result",
          "data": {
            "text/html": [
              "<div>\n",
              "<style scoped>\n",
              "    .dataframe tbody tr th:only-of-type {\n",
              "        vertical-align: middle;\n",
              "    }\n",
              "\n",
              "    .dataframe tbody tr th {\n",
              "        vertical-align: top;\n",
              "    }\n",
              "\n",
              "    .dataframe thead th {\n",
              "        text-align: right;\n",
              "    }\n",
              "</style>\n",
              "<table border=\"1\" class=\"dataframe\">\n",
              "  <thead>\n",
              "    <tr style=\"text-align: right;\">\n",
              "      <th></th>\n",
              "      <th>adult</th>\n",
              "      <th>belongs_to_collection</th>\n",
              "      <th>budget</th>\n",
              "      <th>genres</th>\n",
              "      <th>homepage</th>\n",
              "      <th>id</th>\n",
              "      <th>imdb_id</th>\n",
              "      <th>original_language</th>\n",
              "      <th>original_title</th>\n",
              "      <th>overview</th>\n",
              "      <th>popularity</th>\n",
              "      <th>poster_path</th>\n",
              "      <th>production_companies</th>\n",
              "      <th>production_countries</th>\n",
              "      <th>release_date</th>\n",
              "      <th>revenue</th>\n",
              "      <th>runtime</th>\n",
              "      <th>spoken_languages</th>\n",
              "      <th>status</th>\n",
              "      <th>tagline</th>\n",
              "      <th>title</th>\n",
              "      <th>video</th>\n",
              "      <th>vote_average</th>\n",
              "      <th>vote_count</th>\n",
              "    </tr>\n",
              "  </thead>\n",
              "  <tbody>\n",
              "    <tr>\n",
              "      <th>0</th>\n",
              "      <td>False</td>\n",
              "      <td>{'id': 10194, 'name': 'Toy Story Collection', ...</td>\n",
              "      <td>30000000</td>\n",
              "      <td>[{'id': 16, 'name': 'Animation'}, {'id': 35, '...</td>\n",
              "      <td>http://toystory.disney.com/toy-story</td>\n",
              "      <td>862</td>\n",
              "      <td>tt0114709</td>\n",
              "      <td>en</td>\n",
              "      <td>Toy Story</td>\n",
              "      <td>Led by Woody, Andy's toys live happily in his ...</td>\n",
              "      <td>21.946943</td>\n",
              "      <td>/rhIRbceoE9lR4veEXuwCC2wARtG.jpg</td>\n",
              "      <td>[{'name': 'Pixar Animation Studios', 'id': 3}]</td>\n",
              "      <td>[{'iso_3166_1': 'US', 'name': 'United States o...</td>\n",
              "      <td>1995-10-30</td>\n",
              "      <td>373554033.0</td>\n",
              "      <td>81.0</td>\n",
              "      <td>[{'iso_639_1': 'en', 'name': 'English'}]</td>\n",
              "      <td>Released</td>\n",
              "      <td>NaN</td>\n",
              "      <td>Toy Story</td>\n",
              "      <td>False</td>\n",
              "      <td>7.7</td>\n",
              "      <td>5415.0</td>\n",
              "    </tr>\n",
              "    <tr>\n",
              "      <th>1</th>\n",
              "      <td>False</td>\n",
              "      <td>NaN</td>\n",
              "      <td>65000000</td>\n",
              "      <td>[{'id': 12, 'name': 'Adventure'}, {'id': 14, '...</td>\n",
              "      <td>NaN</td>\n",
              "      <td>8844</td>\n",
              "      <td>tt0113497</td>\n",
              "      <td>en</td>\n",
              "      <td>Jumanji</td>\n",
              "      <td>When siblings Judy and Peter discover an encha...</td>\n",
              "      <td>17.015539</td>\n",
              "      <td>/vzmL6fP7aPKNKPRTFnZmiUfciyV.jpg</td>\n",
              "      <td>[{'name': 'TriStar Pictures', 'id': 559}, {'na...</td>\n",
              "      <td>[{'iso_3166_1': 'US', 'name': 'United States o...</td>\n",
              "      <td>1995-12-15</td>\n",
              "      <td>262797249.0</td>\n",
              "      <td>104.0</td>\n",
              "      <td>[{'iso_639_1': 'en', 'name': 'English'}, {'iso...</td>\n",
              "      <td>Released</td>\n",
              "      <td>Roll the dice and unleash the excitement!</td>\n",
              "      <td>Jumanji</td>\n",
              "      <td>False</td>\n",
              "      <td>6.9</td>\n",
              "      <td>2413.0</td>\n",
              "    </tr>\n",
              "    <tr>\n",
              "      <th>2</th>\n",
              "      <td>False</td>\n",
              "      <td>{'id': 119050, 'name': 'Grumpy Old Men Collect...</td>\n",
              "      <td>0</td>\n",
              "      <td>[{'id': 10749, 'name': 'Romance'}, {'id': 35, ...</td>\n",
              "      <td>NaN</td>\n",
              "      <td>15602</td>\n",
              "      <td>tt0113228</td>\n",
              "      <td>en</td>\n",
              "      <td>Grumpier Old Men</td>\n",
              "      <td>A family wedding reignites the ancient feud be...</td>\n",
              "      <td>11.7129</td>\n",
              "      <td>/6ksm1sjKMFLbO7UY2i6G1ju9SML.jpg</td>\n",
              "      <td>[{'name': 'Warner Bros.', 'id': 6194}, {'name'...</td>\n",
              "      <td>[{'iso_3166_1': 'US', 'name': 'United States o...</td>\n",
              "      <td>1995-12-22</td>\n",
              "      <td>0.0</td>\n",
              "      <td>101.0</td>\n",
              "      <td>[{'iso_639_1': 'en', 'name': 'English'}]</td>\n",
              "      <td>Released</td>\n",
              "      <td>Still Yelling. Still Fighting. Still Ready for...</td>\n",
              "      <td>Grumpier Old Men</td>\n",
              "      <td>False</td>\n",
              "      <td>6.5</td>\n",
              "      <td>92.0</td>\n",
              "    </tr>\n",
              "    <tr>\n",
              "      <th>3</th>\n",
              "      <td>False</td>\n",
              "      <td>NaN</td>\n",
              "      <td>16000000</td>\n",
              "      <td>[{'id': 35, 'name': 'Comedy'}, {'id': 18, 'nam...</td>\n",
              "      <td>NaN</td>\n",
              "      <td>31357</td>\n",
              "      <td>tt0114885</td>\n",
              "      <td>en</td>\n",
              "      <td>Waiting to Exhale</td>\n",
              "      <td>Cheated on, mistreated and stepped on, the wom...</td>\n",
              "      <td>3.859495</td>\n",
              "      <td>/16XOMpEaLWkrcPqSQqhTmeJuqQl.jpg</td>\n",
              "      <td>[{'name': 'Twentieth Century Fox Film Corporat...</td>\n",
              "      <td>[{'iso_3166_1': 'US', 'name': 'United States o...</td>\n",
              "      <td>1995-12-22</td>\n",
              "      <td>81452156.0</td>\n",
              "      <td>127.0</td>\n",
              "      <td>[{'iso_639_1': 'en', 'name': 'English'}]</td>\n",
              "      <td>Released</td>\n",
              "      <td>Friends are the people who let you be yourself...</td>\n",
              "      <td>Waiting to Exhale</td>\n",
              "      <td>False</td>\n",
              "      <td>6.1</td>\n",
              "      <td>34.0</td>\n",
              "    </tr>\n",
              "    <tr>\n",
              "      <th>4</th>\n",
              "      <td>False</td>\n",
              "      <td>{'id': 96871, 'name': 'Father of the Bride Col...</td>\n",
              "      <td>0</td>\n",
              "      <td>[{'id': 35, 'name': 'Comedy'}]</td>\n",
              "      <td>NaN</td>\n",
              "      <td>11862</td>\n",
              "      <td>tt0113041</td>\n",
              "      <td>en</td>\n",
              "      <td>Father of the Bride Part II</td>\n",
              "      <td>Just when George Banks has recovered from his ...</td>\n",
              "      <td>8.387519</td>\n",
              "      <td>/e64sOI48hQXyru7naBFyssKFxVd.jpg</td>\n",
              "      <td>[{'name': 'Sandollar Productions', 'id': 5842}...</td>\n",
              "      <td>[{'iso_3166_1': 'US', 'name': 'United States o...</td>\n",
              "      <td>1995-02-10</td>\n",
              "      <td>76578911.0</td>\n",
              "      <td>106.0</td>\n",
              "      <td>[{'iso_639_1': 'en', 'name': 'English'}]</td>\n",
              "      <td>Released</td>\n",
              "      <td>Just When His World Is Back To Normal... He's ...</td>\n",
              "      <td>Father of the Bride Part II</td>\n",
              "      <td>False</td>\n",
              "      <td>5.7</td>\n",
              "      <td>173.0</td>\n",
              "    </tr>\n",
              "  </tbody>\n",
              "</table>\n",
              "</div>"
            ],
            "text/plain": [
              "   adult  ... vote_count\n",
              "0  False  ...     5415.0\n",
              "1  False  ...     2413.0\n",
              "2  False  ...       92.0\n",
              "3  False  ...       34.0\n",
              "4  False  ...      173.0\n",
              "\n",
              "[5 rows x 24 columns]"
            ]
          },
          "metadata": {
            "tags": []
          },
          "execution_count": 18
        }
      ]
    },
    {
      "cell_type": "code",
      "metadata": {
        "colab": {
          "base_uri": "https://localhost:8080/"
        },
        "id": "xlSo9SMPI8aL",
        "outputId": "bb762a01-ec55-418c-bf31-74585c40d9ef"
      },
      "source": [
        "data['overview'].head() # 이 영화가 어떤 영화인지 설명"
      ],
      "execution_count": 19,
      "outputs": [
        {
          "output_type": "execute_result",
          "data": {
            "text/plain": [
              "0    Led by Woody, Andy's toys live happily in his ...\n",
              "1    When siblings Judy and Peter discover an encha...\n",
              "2    A family wedding reignites the ancient feud be...\n",
              "3    Cheated on, mistreated and stepped on, the wom...\n",
              "4    Just when George Banks has recovered from his ...\n",
              "Name: overview, dtype: object"
            ]
          },
          "metadata": {
            "tags": []
          },
          "execution_count": 19
        }
      ]
    },
    {
      "cell_type": "code",
      "metadata": {
        "colab": {
          "base_uri": "https://localhost:8080/"
        },
        "id": "kzhKHjSUIn4T",
        "outputId": "cd3d91cd-5bd3-4829-c46d-df034de3c3ae"
      },
      "source": [
        "# data의 항목 추출\r\n",
        "data.columns"
      ],
      "execution_count": 20,
      "outputs": [
        {
          "output_type": "execute_result",
          "data": {
            "text/plain": [
              "Index(['adult', 'belongs_to_collection', 'budget', 'genres', 'homepage', 'id',\n",
              "       'imdb_id', 'original_language', 'original_title', 'overview',\n",
              "       'popularity', 'poster_path', 'production_companies',\n",
              "       'production_countries', 'release_date', 'revenue', 'runtime',\n",
              "       'spoken_languages', 'status', 'tagline', 'title', 'video',\n",
              "       'vote_average', 'vote_count'],\n",
              "      dtype='object')"
            ]
          },
          "metadata": {
            "tags": []
          },
          "execution_count": 20
        }
      ]
    },
    {
      "cell_type": "code",
      "metadata": {
        "colab": {
          "base_uri": "https://localhost:8080/"
        },
        "id": "dUORioG_JpIB",
        "outputId": "3c33a2d5-7b17-4475-9724-4b4f284a6512"
      },
      "source": [
        "data['overview'].notnull() # 결측치가 없으면 True, 있으면 False"
      ],
      "execution_count": 21,
      "outputs": [
        {
          "output_type": "execute_result",
          "data": {
            "text/plain": [
              "0        True\n",
              "1        True\n",
              "2        True\n",
              "3        True\n",
              "4        True\n",
              "         ... \n",
              "45461    True\n",
              "45462    True\n",
              "45463    True\n",
              "45464    True\n",
              "45465    True\n",
              "Name: overview, Length: 45466, dtype: bool"
            ]
          },
          "metadata": {
            "tags": []
          },
          "execution_count": 21
        }
      ]
    },
    {
      "cell_type": "code",
      "metadata": {
        "colab": {
          "base_uri": "https://localhost:8080/"
        },
        "id": "Hjls_aggIwZz",
        "outputId": "bcbf9a6f-9300-4d58-f0ce-6e7fd5c642f6"
      },
      "source": [
        "# 전처리\r\n",
        "# overview의 결측치가 있는 항목은 모두 제거\r\n",
        "data = data[data['overview'].notnull()].reset_index(drop=True)\r\n",
        "data.shape"
      ],
      "execution_count": 22,
      "outputs": [
        {
          "output_type": "execute_result",
          "data": {
            "text/plain": [
              "(44512, 24)"
            ]
          },
          "metadata": {
            "tags": []
          },
          "execution_count": 22
        }
      ]
    },
    {
      "cell_type": "code",
      "metadata": {
        "id": "K-iU9iT4Jk5D"
      },
      "source": [
        "data = data.loc[0:40000].reset_index(drop=True)"
      ],
      "execution_count": 23,
      "outputs": []
    },
    {
      "cell_type": "code",
      "metadata": {
        "colab": {
          "base_uri": "https://localhost:8080/"
        },
        "id": "EuZal16JJzym",
        "outputId": "d2c454e7-1030-4ab2-93b4-2702c989a060"
      },
      "source": [
        "# 불용어 : 유의미하지 않은 단어 토큰을 제거\r\n",
        "# htps://wikidocs.net/22530\r\n",
        "tfidf = TfidfVectorizer(stop_words='english')\r\n",
        "\r\n",
        "# overwrite에 대해서 tf-idf 수행\r\n",
        "tfidf_matrix = tfidf.fit_transform(data['overview'])\r\n",
        "print(tfidf_matrix.shape)"
      ],
      "execution_count": 24,
      "outputs": [
        {
          "output_type": "stream",
          "text": [
            "(40001, 71257)\n"
          ],
          "name": "stdout"
        }
      ]
    },
    {
      "cell_type": "code",
      "metadata": {
        "id": "tGf6Q0GWKH2j"
      },
      "source": [
        "from sklearn.metrics.pairwise import cosine_similarity\r\n",
        "cosine_matrix = cosine_similarity(tfidf_matrix, tfidf_matrix)"
      ],
      "execution_count": 25,
      "outputs": []
    },
    {
      "cell_type": "code",
      "metadata": {
        "colab": {
          "base_uri": "https://localhost:8080/"
        },
        "id": "k3TVydNw124K",
        "outputId": "48fd7976-3b1e-44e7-8ac1-e32055918ee4"
      },
      "source": [
        "cosine_matrix.shape"
      ],
      "execution_count": 26,
      "outputs": [
        {
          "output_type": "execute_result",
          "data": {
            "text/plain": [
              "(40001, 40001)"
            ]
          },
          "metadata": {
            "tags": []
          },
          "execution_count": 26
        }
      ]
    },
    {
      "cell_type": "code",
      "metadata": {
        "colab": {
          "base_uri": "https://localhost:8080/"
        },
        "id": "MfMSL0tv1-Kd",
        "outputId": "b74ab0b1-a45d-4f78-8636-8a9ef5c31b84"
      },
      "source": [
        "np.round(cosine_matrix, 4)"
      ],
      "execution_count": 27,
      "outputs": [
        {
          "output_type": "execute_result",
          "data": {
            "text/plain": [
              "array([[1.    , 0.0151, 0.    , ..., 0.0329, 0.    , 0.    ],\n",
              "       [0.0151, 1.    , 0.0472, ..., 0.    , 0.0167, 0.059 ],\n",
              "       [0.    , 0.0472, 1.    , ..., 0.    , 0.    , 0.    ],\n",
              "       ...,\n",
              "       [0.0329, 0.    , 0.    , ..., 1.    , 0.    , 0.    ],\n",
              "       [0.    , 0.0167, 0.    , ..., 0.    , 1.    , 0.    ],\n",
              "       [0.    , 0.059 , 0.    , ..., 0.    , 0.    , 1.    ]])"
            ]
          },
          "metadata": {
            "tags": []
          },
          "execution_count": 27
        }
      ]
    },
    {
      "cell_type": "code",
      "metadata": {
        "id": "jxiYe04y27Nm"
      },
      "source": [
        "# cosine matrix\r\n",
        "# 인덱스 0 -> 1 -> 2 ... -> 20001\r\n",
        "# 0 인덱스 : 0 번째 id 영화\r\n",
        "\r\n",
        "movie2id = {}\r\n",
        "for i, c in enumerate(data['title']): movie2id[i] = c\r\n",
        "\r\n",
        "id2movie = {}\r\n",
        "for i, c in movie2id.items(): id2movie[c] = i"
      ],
      "execution_count": 28,
      "outputs": []
    },
    {
      "cell_type": "code",
      "metadata": {
        "colab": {
          "base_uri": "https://localhost:8080/"
        },
        "id": "gLZddJNn3qME",
        "outputId": "c85092c3-2379-471d-ccc9-8ac1d045dfc6"
      },
      "source": [
        "idx = id2movie['Toy Story'] # Toy Story : 0번 인덱스\r\n",
        "idx"
      ],
      "execution_count": 29,
      "outputs": [
        {
          "output_type": "execute_result",
          "data": {
            "text/plain": [
              "0"
            ]
          },
          "metadata": {
            "tags": []
          },
          "execution_count": 29
        }
      ]
    },
    {
      "cell_type": "code",
      "metadata": {
        "colab": {
          "base_uri": "https://localhost:8080/"
        },
        "id": "9on2LP4C4Cue",
        "outputId": "114fb534-a36a-4665-82fd-beaf59263431"
      },
      "source": [
        "cosine_matrix[0]"
      ],
      "execution_count": 30,
      "outputs": [
        {
          "output_type": "execute_result",
          "data": {
            "text/plain": [
              "array([1.        , 0.01511816, 0.        , ..., 0.03293361, 0.        ,\n",
              "       0.        ])"
            ]
          },
          "metadata": {
            "tags": []
          },
          "execution_count": 30
        }
      ]
    },
    {
      "cell_type": "code",
      "metadata": {
        "colab": {
          "base_uri": "https://localhost:8080/"
        },
        "id": "GIEgMNcK4Pio",
        "outputId": "8acf4a04-a61b-4665-c661-335bec11abfe"
      },
      "source": [
        "# Toy Story의 id 호출\r\n",
        "idx = id2movie['Toy Story'] # Toy Story : 0번 인덱스\r\n",
        "sim_scores = [(i, c) for i, c in enumerate(cosine_matrix[idx]) if i != idx] # 자기 자신(1) 을 제외한 영화들의 유사도 및 인덱스를 추출\r\n",
        "sim_scores"
      ],
      "execution_count": 31,
      "outputs": [
        {
          "output_type": "execute_result",
          "data": {
            "text/plain": [
              "[(1, 0.015118161333979299),\n",
              " (2, 0.0),\n",
              " (3, 0.0),\n",
              " (4, 0.0),\n",
              " (5, 0.0),\n",
              " (6, 0.0),\n",
              " (7, 0.0),\n",
              " (8, 0.0),\n",
              " (9, 0.0),\n",
              " (10, 0.0),\n",
              " (11, 0.0),\n",
              " (12, 0.0),\n",
              " (13, 0.0),\n",
              " (14, 0.0),\n",
              " (15, 0.0),\n",
              " (16, 0.0),\n",
              " (17, 0.038730470991734656),\n",
              " (18, 0.0),\n",
              " (19, 0.0),\n",
              " (20, 0.009784153884570742),\n",
              " (21, 0.0),\n",
              " (22, 0.0),\n",
              " (23, 0.0),\n",
              " (24, 0.0),\n",
              " (25, 0.0),\n",
              " (26, 0.0),\n",
              " (27, 0.0),\n",
              " (28, 0.0),\n",
              " (29, 0.0),\n",
              " (30, 0.0),\n",
              " (31, 0.0),\n",
              " (32, 0.018684767445681365),\n",
              " (33, 0.0),\n",
              " (34, 0.0),\n",
              " (35, 0.0),\n",
              " (36, 0.0),\n",
              " (37, 0.0),\n",
              " (38, 0.0),\n",
              " (39, 0.0),\n",
              " (40, 0.0),\n",
              " (41, 0.006335701108570893),\n",
              " (42, 0.0),\n",
              " (43, 0.0),\n",
              " (44, 0.008937728507784504),\n",
              " (45, 0.0),\n",
              " (46, 0.0),\n",
              " (47, 0.0),\n",
              " (48, 0.01308661028572924),\n",
              " (49, 0.009287967771036805),\n",
              " (50, 0.010704384446012585),\n",
              " (51, 0.0),\n",
              " (52, 0.0),\n",
              " (53, 0.019798557304722943),\n",
              " (54, 0.0),\n",
              " (55, 0.025243182246308275),\n",
              " (56, 0.020735349318797777),\n",
              " (57, 0.0),\n",
              " (58, 0.033784327021970824),\n",
              " (59, 0.0),\n",
              " (60, 0.0),\n",
              " (61, 0.007805145165360473),\n",
              " (62, 0.0),\n",
              " (63, 0.009620196602825655),\n",
              " (64, 0.0),\n",
              " (65, 0.0),\n",
              " (66, 0.0),\n",
              " (67, 0.0),\n",
              " (68, 0.0),\n",
              " (69, 0.0),\n",
              " (70, 0.0),\n",
              " (71, 0.0),\n",
              " (72, 0.0),\n",
              " (73, 0.0),\n",
              " (74, 0.0),\n",
              " (75, 0.010170314504114068),\n",
              " (76, 0.0),\n",
              " (77, 0.0),\n",
              " (78, 0.0),\n",
              " (79, 0.0),\n",
              " (80, 0.010018545066882725),\n",
              " (81, 0.01465911566292568),\n",
              " (82, 0.026326988283724585),\n",
              " (83, 0.0),\n",
              " (84, 0.0),\n",
              " (85, 0.0),\n",
              " (86, 0.0),\n",
              " (87, 0.0),\n",
              " (88, 0.010530923018005617),\n",
              " (89, 0.0),\n",
              " (90, 0.011075016314783158),\n",
              " (91, 0.0),\n",
              " (92, 0.0),\n",
              " (93, 0.0),\n",
              " (94, 0.0),\n",
              " (95, 0.0),\n",
              " (96, 0.0),\n",
              " (97, 0.0),\n",
              " (98, 0.0),\n",
              " (99, 0.0),\n",
              " (100, 0.0),\n",
              " (101, 0.0),\n",
              " (102, 0.0),\n",
              " (103, 0.0),\n",
              " (104, 0.013767685098296172),\n",
              " (105, 0.0),\n",
              " (106, 0.0),\n",
              " (107, 0.01612483324321662),\n",
              " (108, 0.0),\n",
              " (109, 0.0),\n",
              " (110, 0.0),\n",
              " (111, 0.0),\n",
              " (112, 0.0),\n",
              " (113, 0.0),\n",
              " (114, 0.0),\n",
              " (115, 0.0),\n",
              " (116, 0.0),\n",
              " (117, 0.0),\n",
              " (118, 0.0),\n",
              " (119, 0.0),\n",
              " (120, 0.0),\n",
              " (121, 0.0),\n",
              " (122, 0.0),\n",
              " (123, 0.0),\n",
              " (124, 0.018955905449242163),\n",
              " (125, 0.0),\n",
              " (126, 0.0),\n",
              " (127, 0.024575634209701),\n",
              " (128, 0.0),\n",
              " (129, 0.0),\n",
              " (130, 0.0),\n",
              " (131, 0.012301271491027225),\n",
              " (132, 0.0),\n",
              " (133, 0.0),\n",
              " (134, 0.0),\n",
              " (135, 0.0),\n",
              " (136, 0.0),\n",
              " (137, 0.009990125057145928),\n",
              " (138, 0.019875659083929183),\n",
              " (139, 0.0),\n",
              " (140, 0.0),\n",
              " (141, 0.0),\n",
              " (142, 0.0),\n",
              " (143, 0.0),\n",
              " (144, 0.0),\n",
              " (145, 0.0),\n",
              " (146, 0.0),\n",
              " (147, 0.0),\n",
              " (148, 0.0),\n",
              " (149, 0.01661242128944961),\n",
              " (150, 0.0),\n",
              " (151, 0.0),\n",
              " (152, 0.0),\n",
              " (153, 0.0),\n",
              " (154, 0.00659226733064831),\n",
              " (155, 0.0),\n",
              " (156, 0.0),\n",
              " (157, 0.0),\n",
              " (158, 0.0),\n",
              " (159, 0.0),\n",
              " (160, 0.0),\n",
              " (161, 0.0),\n",
              " (162, 0.0),\n",
              " (163, 0.0),\n",
              " (164, 0.0),\n",
              " (165, 0.0),\n",
              " (166, 0.0),\n",
              " (167, 0.0),\n",
              " (168, 0.0),\n",
              " (169, 0.0),\n",
              " (170, 0.01779862996723942),\n",
              " (171, 0.0),\n",
              " (172, 0.02078037306619609),\n",
              " (173, 0.0),\n",
              " (174, 0.0),\n",
              " (175, 0.00866603895668557),\n",
              " (176, 0.0),\n",
              " (177, 0.0),\n",
              " (178, 0.0),\n",
              " (179, 0.06320094101154597),\n",
              " (180, 0.0),\n",
              " (181, 0.0),\n",
              " (182, 0.0),\n",
              " (183, 0.0),\n",
              " (184, 0.0),\n",
              " (185, 0.0),\n",
              " (186, 0.01191237111581102),\n",
              " (187, 0.0),\n",
              " (188, 0.0),\n",
              " (189, 0.0),\n",
              " (190, 0.0),\n",
              " (191, 0.0),\n",
              " (192, 0.0),\n",
              " (193, 0.0),\n",
              " (194, 0.0),\n",
              " (195, 0.0),\n",
              " (196, 0.0),\n",
              " (197, 0.0),\n",
              " (198, 0.0),\n",
              " (199, 0.0),\n",
              " (200, 0.0),\n",
              " (201, 0.0),\n",
              " (202, 0.0),\n",
              " (203, 0.0),\n",
              " (204, 0.0),\n",
              " (205, 0.008413446040693627),\n",
              " (206, 0.0),\n",
              " (207, 0.0),\n",
              " (208, 0.0),\n",
              " (209, 0.0),\n",
              " (210, 0.0),\n",
              " (211, 0.0),\n",
              " (212, 0.0),\n",
              " (213, 0.0),\n",
              " (214, 0.02407557358336985),\n",
              " (215, 0.0),\n",
              " (216, 0.0),\n",
              " (217, 0.0),\n",
              " (218, 0.0),\n",
              " (219, 0.0),\n",
              " (220, 0.0),\n",
              " (221, 0.0),\n",
              " (222, 0.02158787526313525),\n",
              " (223, 0.0),\n",
              " (224, 0.0),\n",
              " (225, 0.025625555305532885),\n",
              " (226, 0.02327314340051556),\n",
              " (227, 0.0),\n",
              " (228, 0.021365521883029804),\n",
              " (229, 0.008448032631685257),\n",
              " (230, 0.0),\n",
              " (231, 0.0),\n",
              " (232, 0.0),\n",
              " (233, 0.0),\n",
              " (234, 0.0),\n",
              " (235, 0.0),\n",
              " (236, 0.0),\n",
              " (237, 0.0),\n",
              " (238, 0.0),\n",
              " (239, 0.0),\n",
              " (240, 0.0),\n",
              " (241, 0.0),\n",
              " (242, 0.0),\n",
              " (243, 0.0),\n",
              " (244, 0.0),\n",
              " (245, 0.0),\n",
              " (246, 0.0),\n",
              " (247, 0.0),\n",
              " (248, 0.0),\n",
              " (249, 0.0),\n",
              " (250, 0.0),\n",
              " (251, 0.0),\n",
              " (252, 0.0),\n",
              " (253, 0.010517137887805785),\n",
              " (254, 0.0),\n",
              " (255, 0.020502914020858635),\n",
              " (256, 0.023924827147988496),\n",
              " (257, 0.0),\n",
              " (258, 0.0),\n",
              " (259, 0.0),\n",
              " (260, 0.0),\n",
              " (261, 0.0),\n",
              " (262, 0.0),\n",
              " (263, 0.0),\n",
              " (264, 0.0),\n",
              " (265, 0.016516670499367538),\n",
              " (266, 0.0),\n",
              " (267, 0.0),\n",
              " (268, 0.0),\n",
              " (269, 0.0),\n",
              " (270, 0.0),\n",
              " (271, 0.011541738589927896),\n",
              " (272, 0.0),\n",
              " (273, 0.011807308652844538),\n",
              " (274, 0.0),\n",
              " (275, 0.0),\n",
              " (276, 0.013836417559651391),\n",
              " (277, 0.0),\n",
              " (278, 0.0),\n",
              " (279, 0.0),\n",
              " (280, 0.0),\n",
              " (281, 0.0),\n",
              " (282, 0.0),\n",
              " (283, 0.0),\n",
              " (284, 0.0),\n",
              " (285, 0.0),\n",
              " (286, 0.031873738167204305),\n",
              " (287, 0.0),\n",
              " (288, 0.0),\n",
              " (289, 0.0),\n",
              " (290, 0.0),\n",
              " (291, 0.0),\n",
              " (292, 0.0),\n",
              " (293, 0.011135098010923676),\n",
              " (294, 0.0),\n",
              " (295, 0.0),\n",
              " (296, 0.0),\n",
              " (297, 0.0),\n",
              " (298, 0.0),\n",
              " (299, 0.0),\n",
              " (300, 0.0),\n",
              " (301, 0.03253603389557852),\n",
              " (302, 0.015590368249519239),\n",
              " (303, 0.0),\n",
              " (304, 0.018148948319349045),\n",
              " (305, 0.0),\n",
              " (306, 0.012408750183988744),\n",
              " (307, 0.0),\n",
              " (308, 0.020727005329839846),\n",
              " (309, 0.0),\n",
              " (310, 0.0),\n",
              " (311, 0.0130715132113409),\n",
              " (312, 0.06405921551161116),\n",
              " (313, 0.0),\n",
              " (314, 0.0),\n",
              " (315, 0.013162564016972782),\n",
              " (316, 0.0),\n",
              " (317, 0.0),\n",
              " (318, 0.0),\n",
              " (319, 0.0),\n",
              " (320, 0.0),\n",
              " (321, 0.0),\n",
              " (322, 0.0),\n",
              " (323, 0.018230839930440453),\n",
              " (324, 0.0),\n",
              " (325, 0.0),\n",
              " (326, 0.0),\n",
              " (327, 0.0),\n",
              " (328, 0.0),\n",
              " (329, 0.0),\n",
              " (330, 0.0),\n",
              " (331, 0.0),\n",
              " (332, 0.0),\n",
              " (333, 0.0),\n",
              " (334, 0.0),\n",
              " (335, 0.0),\n",
              " (336, 0.0),\n",
              " (337, 0.0),\n",
              " (338, 0.0),\n",
              " (339, 0.0),\n",
              " (340, 0.0),\n",
              " (341, 0.00815168026392763),\n",
              " (342, 0.0),\n",
              " (343, 0.012591412276771616),\n",
              " (344, 0.0),\n",
              " (345, 0.0),\n",
              " (346, 0.0),\n",
              " (347, 0.0),\n",
              " (348, 0.0100456884175462),\n",
              " (349, 0.0),\n",
              " (350, 0.0),\n",
              " (351, 0.0),\n",
              " (352, 0.0),\n",
              " (353, 0.0),\n",
              " (354, 0.0),\n",
              " (355, 0.023302943359020105),\n",
              " (356, 0.0),\n",
              " (357, 0.0),\n",
              " (358, 0.0),\n",
              " (359, 0.0),\n",
              " (360, 0.0),\n",
              " (361, 0.0),\n",
              " (362, 0.0),\n",
              " (363, 0.0),\n",
              " (364, 0.0),\n",
              " (365, 0.0),\n",
              " (366, 0.0),\n",
              " (367, 0.0),\n",
              " (368, 0.04535656204038206),\n",
              " (369, 0.0),\n",
              " (370, 0.0),\n",
              " (371, 0.0),\n",
              " (372, 0.0),\n",
              " (373, 0.0),\n",
              " (374, 0.0),\n",
              " (375, 0.0),\n",
              " (376, 0.013184687992317746),\n",
              " (377, 0.0),\n",
              " (378, 0.008764766627091485),\n",
              " (379, 0.0),\n",
              " (380, 0.0),\n",
              " (381, 0.0),\n",
              " (382, 0.0),\n",
              " (383, 0.0),\n",
              " (384, 0.0),\n",
              " (385, 0.0),\n",
              " (386, 0.0),\n",
              " (387, 0.015263180502393241),\n",
              " (388, 0.0),\n",
              " (389, 0.0),\n",
              " (390, 0.0),\n",
              " (391, 0.0),\n",
              " (392, 0.0),\n",
              " (393, 0.0),\n",
              " (394, 0.0),\n",
              " (395, 0.0),\n",
              " (396, 0.0),\n",
              " (397, 0.0),\n",
              " (398, 0.0),\n",
              " (399, 0.0),\n",
              " (400, 0.012090484554978992),\n",
              " (401, 0.0),\n",
              " (402, 0.0),\n",
              " (403, 0.0),\n",
              " (404, 0.0),\n",
              " (405, 0.0),\n",
              " (406, 0.0),\n",
              " (407, 0.0),\n",
              " (408, 0.0),\n",
              " (409, 0.0),\n",
              " (410, 0.0),\n",
              " (411, 0.0),\n",
              " (412, 0.0),\n",
              " (413, 0.0),\n",
              " (414, 0.0),\n",
              " (415, 0.0),\n",
              " (416, 0.0),\n",
              " (417, 0.0),\n",
              " (418, 0.0),\n",
              " (419, 0.010531083000603209),\n",
              " (420, 0.0),\n",
              " (421, 0.0),\n",
              " (422, 0.0),\n",
              " (423, 0.0),\n",
              " (424, 0.0),\n",
              " (425, 0.03618655411928663),\n",
              " (426, 0.0),\n",
              " (427, 0.01952989077794721),\n",
              " (428, 0.00914112332488742),\n",
              " (429, 0.0),\n",
              " (430, 0.0),\n",
              " (431, 0.0),\n",
              " (432, 0.0),\n",
              " (433, 0.006287202954202863),\n",
              " (434, 0.0),\n",
              " (435, 0.0),\n",
              " (436, 0.0),\n",
              " (437, 0.0),\n",
              " (438, 0.0),\n",
              " (439, 0.03247932080397296),\n",
              " (440, 0.009549434807190657),\n",
              " (441, 0.0),\n",
              " (442, 0.0),\n",
              " (443, 0.0),\n",
              " (444, 0.0),\n",
              " (445, 0.0),\n",
              " (446, 0.11604119696946397),\n",
              " (447, 0.0),\n",
              " (448, 0.028173613575521946),\n",
              " (449, 0.0),\n",
              " (450, 0.01403673415932296),\n",
              " (451, 0.0),\n",
              " (452, 0.0),\n",
              " (453, 0.0),\n",
              " (454, 0.0),\n",
              " (455, 0.0),\n",
              " (456, 0.0),\n",
              " (457, 0.0),\n",
              " (458, 0.010760178876250312),\n",
              " (459, 0.0),\n",
              " (460, 0.0),\n",
              " (461, 0.0),\n",
              " (462, 0.0),\n",
              " (463, 0.017401271142451227),\n",
              " (464, 0.0),\n",
              " (465, 0.011764691278482132),\n",
              " (466, 0.0),\n",
              " (467, 0.0),\n",
              " (468, 0.0),\n",
              " (469, 0.0),\n",
              " (470, 0.0),\n",
              " (471, 0.0),\n",
              " (472, 0.0),\n",
              " (473, 0.0),\n",
              " (474, 0.03868506334559796),\n",
              " (475, 0.0),\n",
              " (476, 0.0),\n",
              " (477, 0.0),\n",
              " (478, 0.0),\n",
              " (479, 0.0),\n",
              " (480, 0.0),\n",
              " (481, 0.0),\n",
              " (482, 0.0),\n",
              " (483, 0.13590513241323254),\n",
              " (484, 0.0),\n",
              " (485, 0.0),\n",
              " (486, 0.0),\n",
              " (487, 0.0),\n",
              " (488, 0.0),\n",
              " (489, 0.0),\n",
              " (490, 0.03906028990524998),\n",
              " (491, 0.0),\n",
              " (492, 0.0),\n",
              " (493, 0.013453089316148236),\n",
              " (494, 0.0),\n",
              " (495, 0.016439754732343277),\n",
              " (496, 0.014201899224383894),\n",
              " (497, 0.0),\n",
              " (498, 0.0),\n",
              " (499, 0.0),\n",
              " (500, 0.0),\n",
              " (501, 0.0),\n",
              " (502, 0.0),\n",
              " (503, 0.0),\n",
              " (504, 0.0),\n",
              " (505, 0.0),\n",
              " (506, 0.011149677055776052),\n",
              " (507, 0.0),\n",
              " (508, 0.0),\n",
              " (509, 0.0),\n",
              " (510, 0.020079140279172274),\n",
              " (511, 0.0),\n",
              " (512, 0.0),\n",
              " (513, 0.0),\n",
              " (514, 0.0),\n",
              " (515, 0.0),\n",
              " (516, 0.009997277599614031),\n",
              " (517, 0.0),\n",
              " (518, 0.0),\n",
              " (519, 0.0),\n",
              " (520, 0.0),\n",
              " (521, 0.00993831415260116),\n",
              " (522, 0.0),\n",
              " (523, 0.0),\n",
              " (524, 0.021738453781924332),\n",
              " (525, 0.0),\n",
              " (526, 0.0),\n",
              " (527, 0.0),\n",
              " (528, 0.0),\n",
              " (529, 0.006479938733375872),\n",
              " (530, 0.0),\n",
              " (531, 0.0),\n",
              " (532, 0.0),\n",
              " (533, 0.01995795117684764),\n",
              " (534, 0.0),\n",
              " (535, 0.007748751585943616),\n",
              " (536, 0.0),\n",
              " (537, 0.0),\n",
              " (538, 0.0),\n",
              " (539, 0.0111674653990476),\n",
              " (540, 0.0),\n",
              " (541, 0.0),\n",
              " (542, 0.0),\n",
              " (543, 0.015162035607845781),\n",
              " (544, 0.0),\n",
              " (545, 0.0),\n",
              " (546, 0.0),\n",
              " (547, 0.0),\n",
              " (548, 0.0),\n",
              " (549, 0.0),\n",
              " (550, 0.0),\n",
              " (551, 0.0),\n",
              " (552, 0.0),\n",
              " (553, 0.0),\n",
              " (554, 0.0),\n",
              " (555, 0.020795008524171685),\n",
              " (556, 0.0),\n",
              " (557, 0.01037029132327878),\n",
              " (558, 0.0),\n",
              " (559, 0.020610570364468055),\n",
              " (560, 0.0),\n",
              " (561, 0.0),\n",
              " (562, 0.0),\n",
              " (563, 0.006079361818565446),\n",
              " (564, 0.0),\n",
              " (565, 0.0),\n",
              " (566, 0.0),\n",
              " (567, 0.0),\n",
              " (568, 0.0),\n",
              " (569, 0.0),\n",
              " (570, 0.0),\n",
              " (571, 0.0),\n",
              " (572, 0.0),\n",
              " (573, 0.0),\n",
              " (574, 0.0),\n",
              " (575, 0.010801664570467533),\n",
              " (576, 0.024468385506694886),\n",
              " (577, 0.0),\n",
              " (578, 0.010387626500626622),\n",
              " (579, 0.0),\n",
              " (580, 0.0),\n",
              " (581, 0.0),\n",
              " (582, 0.0),\n",
              " (583, 0.0),\n",
              " (584, 0.0),\n",
              " (585, 0.0),\n",
              " (586, 0.01636086313430897),\n",
              " (587, 0.009044859032002903),\n",
              " (588, 0.039134570333131335),\n",
              " (589, 0.06301398481980794),\n",
              " (590, 0.0),\n",
              " (591, 0.0),\n",
              " (592, 0.0),\n",
              " (593, 0.008246694647330811),\n",
              " (594, 0.0),\n",
              " (595, 0.0),\n",
              " (596, 0.0),\n",
              " (597, 0.0),\n",
              " (598, 0.0),\n",
              " (599, 0.0),\n",
              " (600, 0.0),\n",
              " (601, 0.0),\n",
              " (602, 0.0),\n",
              " (603, 0.02797301153868534),\n",
              " (604, 0.0),\n",
              " (605, 0.0),\n",
              " (606, 0.01984594386790059),\n",
              " (607, 0.0),\n",
              " (608, 0.0),\n",
              " (609, 0.0),\n",
              " (610, 0.010060217103757912),\n",
              " (611, 0.007591252110270398),\n",
              " (612, 0.0),\n",
              " (613, 0.0),\n",
              " (614, 0.0),\n",
              " (615, 0.01694907851276683),\n",
              " (616, 0.0),\n",
              " (617, 0.035387499195138936),\n",
              " (618, 0.0),\n",
              " (619, 0.04217386632452218),\n",
              " (620, 0.0),\n",
              " (621, 0.0),\n",
              " (622, 0.0),\n",
              " (623, 0.0),\n",
              " (624, 0.0),\n",
              " (625, 0.0),\n",
              " (626, 0.0),\n",
              " (627, 0.0),\n",
              " (628, 0.0),\n",
              " (629, 0.0),\n",
              " (630, 0.0),\n",
              " (631, 0.0),\n",
              " (632, 0.0),\n",
              " (633, 0.0),\n",
              " (634, 0.0),\n",
              " (635, 0.0),\n",
              " (636, 0.0),\n",
              " (637, 0.0),\n",
              " (638, 0.022610905675160494),\n",
              " (639, 0.0),\n",
              " (640, 0.011087436399420732),\n",
              " (641, 0.019756594177214065),\n",
              " (642, 0.008881168417239215),\n",
              " (643, 0.0),\n",
              " (644, 0.0),\n",
              " (645, 0.0),\n",
              " (646, 0.0),\n",
              " (647, 0.0),\n",
              " (648, 0.0),\n",
              " (649, 0.009095227496611683),\n",
              " (650, 0.015548557261244942),\n",
              " (651, 0.007083184303572534),\n",
              " (652, 0.0),\n",
              " (653, 0.0),\n",
              " (654, 0.0),\n",
              " (655, 0.0),\n",
              " (656, 0.0),\n",
              " (657, 0.0),\n",
              " (658, 0.0),\n",
              " (659, 0.0),\n",
              " (660, 0.0),\n",
              " (661, 0.0),\n",
              " (662, 0.0),\n",
              " (663, 0.0),\n",
              " (664, 0.0),\n",
              " (665, 0.0),\n",
              " (666, 0.0),\n",
              " (667, 0.0),\n",
              " (668, 0.0),\n",
              " (669, 0.0),\n",
              " (670, 0.0),\n",
              " (671, 0.0),\n",
              " (672, 0.0),\n",
              " (673, 0.0),\n",
              " (674, 0.0),\n",
              " (675, 0.0),\n",
              " (676, 0.0),\n",
              " (677, 0.0),\n",
              " (678, 0.0),\n",
              " (679, 0.010224251504147415),\n",
              " (680, 0.0),\n",
              " (681, 0.0),\n",
              " (682, 0.0),\n",
              " (683, 0.0),\n",
              " (684, 0.0),\n",
              " (685, 0.0),\n",
              " (686, 0.0),\n",
              " (687, 0.0),\n",
              " (688, 0.012015729233754229),\n",
              " (689, 0.009813682868818072),\n",
              " (690, 0.01173222791592476),\n",
              " (691, 0.0),\n",
              " (692, 0.01427578532753611),\n",
              " (693, 0.0),\n",
              " (694, 0.0),\n",
              " (695, 0.0),\n",
              " (696, 0.0),\n",
              " (697, 0.0),\n",
              " (698, 0.0),\n",
              " (699, 0.0),\n",
              " (700, 0.0),\n",
              " (701, 0.0),\n",
              " (702, 0.0),\n",
              " (703, 0.0),\n",
              " (704, 0.0),\n",
              " (705, 0.0),\n",
              " (706, 0.009050031638921971),\n",
              " (707, 0.0),\n",
              " (708, 0.0),\n",
              " (709, 0.0),\n",
              " (710, 0.0),\n",
              " (711, 0.0),\n",
              " (712, 0.01247393830912528),\n",
              " (713, 0.009736673251799725),\n",
              " (714, 0.0),\n",
              " (715, 0.0),\n",
              " (716, 0.013675894421987623),\n",
              " (717, 0.0),\n",
              " (718, 0.0),\n",
              " (719, 0.01010976102266923),\n",
              " (720, 0.014231776758799499),\n",
              " (721, 0.0),\n",
              " (722, 0.0),\n",
              " (723, 0.0),\n",
              " (724, 0.0),\n",
              " (725, 0.027632609772215398),\n",
              " (726, 0.0),\n",
              " (727, 0.008184743152781454),\n",
              " (728, 0.0),\n",
              " (729, 0.0),\n",
              " (730, 0.0),\n",
              " (731, 0.0),\n",
              " (732, 0.010131839983528968),\n",
              " (733, 0.0),\n",
              " (734, 0.0),\n",
              " (735, 0.0),\n",
              " (736, 0.0),\n",
              " (737, 0.03130691704303445),\n",
              " (738, 0.0),\n",
              " (739, 0.011093543618064366),\n",
              " (740, 0.0),\n",
              " (741, 0.07701200630714478),\n",
              " (742, 0.0),\n",
              " (743, 0.03251483264382181),\n",
              " (744, 0.0),\n",
              " (745, 0.0),\n",
              " (746, 0.0),\n",
              " (747, 0.0),\n",
              " (748, 0.0),\n",
              " (749, 0.0),\n",
              " (750, 0.02220708037824954),\n",
              " (751, 0.026790339677021435),\n",
              " (752, 0.0),\n",
              " (753, 0.0),\n",
              " (754, 0.0),\n",
              " (755, 0.0),\n",
              " (756, 0.0),\n",
              " (757, 0.0),\n",
              " (758, 0.0),\n",
              " (759, 0.0),\n",
              " (760, 0.0),\n",
              " (761, 0.00978977868025402),\n",
              " (762, 0.0),\n",
              " (763, 0.0),\n",
              " (764, 0.0),\n",
              " (765, 0.0),\n",
              " (766, 0.0),\n",
              " (767, 0.0),\n",
              " (768, 0.03794415000680566),\n",
              " (769, 0.0),\n",
              " (770, 0.0),\n",
              " (771, 0.0),\n",
              " (772, 0.0),\n",
              " (773, 0.0),\n",
              " (774, 0.0),\n",
              " (775, 0.0),\n",
              " (776, 0.0),\n",
              " (777, 0.0),\n",
              " (778, 0.0),\n",
              " (779, 0.0),\n",
              " (780, 0.0),\n",
              " (781, 0.0),\n",
              " (782, 0.0),\n",
              " (783, 0.0),\n",
              " (784, 0.009645116503583486),\n",
              " (785, 0.0),\n",
              " (786, 0.0),\n",
              " (787, 0.0),\n",
              " (788, 0.0),\n",
              " (789, 0.0),\n",
              " (790, 0.0),\n",
              " (791, 0.0),\n",
              " (792, 0.0),\n",
              " (793, 0.015919639068490306),\n",
              " (794, 0.0),\n",
              " (795, 0.014203885027003456),\n",
              " (796, 0.0),\n",
              " (797, 0.0),\n",
              " (798, 0.01673886878223103),\n",
              " (799, 0.0),\n",
              " (800, 0.0),\n",
              " (801, 0.0),\n",
              " (802, 0.0),\n",
              " (803, 0.0),\n",
              " (804, 0.0),\n",
              " (805, 0.0),\n",
              " (806, 0.0),\n",
              " (807, 0.0),\n",
              " (808, 0.0),\n",
              " (809, 0.0),\n",
              " (810, 0.008862661857837243),\n",
              " (811, 0.0),\n",
              " (812, 0.0),\n",
              " (813, 0.0),\n",
              " (814, 0.039556100943471936),\n",
              " (815, 0.0),\n",
              " (816, 0.0),\n",
              " (817, 0.01721467360224182),\n",
              " (818, 0.020262279222970338),\n",
              " (819, 0.0),\n",
              " (820, 0.010731832046058522),\n",
              " (821, 0.009966081152916398),\n",
              " (822, 0.018762644976456865),\n",
              " (823, 0.0),\n",
              " (824, 0.01382979400785851),\n",
              " (825, 0.0),\n",
              " (826, 0.0),\n",
              " (827, 0.0),\n",
              " (828, 0.0),\n",
              " (829, 0.0),\n",
              " (830, 0.010219553191846436),\n",
              " (831, 0.0),\n",
              " (832, 0.014164173417152894),\n",
              " (833, 0.0),\n",
              " (834, 0.0),\n",
              " (835, 0.0),\n",
              " (836, 0.0),\n",
              " (837, 0.009483453377394481),\n",
              " (838, 0.0),\n",
              " (839, 0.0),\n",
              " (840, 0.0),\n",
              " (841, 0.0),\n",
              " (842, 0.011773370854341996),\n",
              " (843, 0.0),\n",
              " (844, 0.0),\n",
              " (845, 0.0),\n",
              " (846, 0.0),\n",
              " (847, 0.0),\n",
              " (848, 0.0),\n",
              " (849, 0.013215726466766485),\n",
              " (850, 0.0),\n",
              " (851, 0.014478280858798437),\n",
              " (852, 0.0),\n",
              " (853, 0.0),\n",
              " (854, 0.0),\n",
              " (855, 0.0),\n",
              " (856, 0.0),\n",
              " (857, 0.0),\n",
              " (858, 0.011591672895399552),\n",
              " (859, 0.0),\n",
              " (860, 0.0),\n",
              " (861, 0.0),\n",
              " (862, 0.0),\n",
              " (863, 0.014992611175297623),\n",
              " (864, 0.0),\n",
              " (865, 0.0),\n",
              " (866, 0.009810044827961589),\n",
              " (867, 0.006241126115941834),\n",
              " (868, 0.0),\n",
              " (869, 0.0),\n",
              " (870, 0.012679431376757712),\n",
              " (871, 0.018554598143496928),\n",
              " (872, 0.0),\n",
              " (873, 0.0),\n",
              " (874, 0.0),\n",
              " (875, 0.0),\n",
              " (876, 0.0),\n",
              " (877, 0.0),\n",
              " (878, 0.0),\n",
              " (879, 0.0),\n",
              " (880, 0.0),\n",
              " (881, 0.0),\n",
              " (882, 0.0),\n",
              " (883, 0.0),\n",
              " (884, 0.0),\n",
              " (885, 0.0),\n",
              " (886, 0.0),\n",
              " (887, 0.0),\n",
              " (888, 0.0),\n",
              " (889, 0.0),\n",
              " (890, 0.0),\n",
              " (891, 0.0),\n",
              " (892, 0.0),\n",
              " (893, 0.0),\n",
              " (894, 0.0),\n",
              " (895, 0.0),\n",
              " (896, 0.0),\n",
              " (897, 0.0),\n",
              " (898, 0.0),\n",
              " (899, 0.0),\n",
              " (900, 0.0),\n",
              " (901, 0.0),\n",
              " (902, 0.0),\n",
              " (903, 0.0),\n",
              " (904, 0.02734409878382514),\n",
              " (905, 0.0),\n",
              " (906, 0.0),\n",
              " (907, 0.0),\n",
              " (908, 0.0),\n",
              " (909, 0.0),\n",
              " (910, 0.0),\n",
              " (911, 0.0),\n",
              " (912, 0.0),\n",
              " (913, 0.0),\n",
              " (914, 0.0),\n",
              " (915, 0.0),\n",
              " (916, 0.05525106737257772),\n",
              " (917, 0.0),\n",
              " (918, 0.0),\n",
              " (919, 0.0),\n",
              " (920, 0.025954124575603865),\n",
              " (921, 0.0),\n",
              " (922, 0.016668914211096102),\n",
              " (923, 0.0),\n",
              " (924, 0.0),\n",
              " (925, 0.0),\n",
              " (926, 0.0),\n",
              " (927, 0.0),\n",
              " (928, 0.00623384150819582),\n",
              " (929, 0.0),\n",
              " (930, 0.0),\n",
              " (931, 0.0),\n",
              " (932, 0.0),\n",
              " (933, 0.016401726426458412),\n",
              " (934, 0.0),\n",
              " (935, 0.011153638100509601),\n",
              " (936, 0.0),\n",
              " (937, 0.011689839088129485),\n",
              " (938, 0.0),\n",
              " (939, 0.0),\n",
              " (940, 0.0),\n",
              " (941, 0.0),\n",
              " (942, 0.0),\n",
              " (943, 0.017674114339323924),\n",
              " (944, 0.0),\n",
              " (945, 0.0),\n",
              " (946, 0.007901694925430415),\n",
              " (947, 0.0),\n",
              " (948, 0.0),\n",
              " (949, 0.0),\n",
              " (950, 0.010871532498283182),\n",
              " (951, 0.0),\n",
              " (952, 0.0),\n",
              " (953, 0.0),\n",
              " (954, 0.0),\n",
              " (955, 0.0),\n",
              " (956, 0.0),\n",
              " (957, 0.0),\n",
              " (958, 0.0),\n",
              " (959, 0.0),\n",
              " (960, 0.0),\n",
              " (961, 0.0),\n",
              " (962, 0.012137196430794448),\n",
              " (963, 0.0),\n",
              " (964, 0.0),\n",
              " (965, 0.0),\n",
              " (966, 0.0),\n",
              " (967, 0.010386158814152153),\n",
              " (968, 0.0),\n",
              " (969, 0.0),\n",
              " (970, 0.0),\n",
              " (971, 0.0),\n",
              " (972, 0.0),\n",
              " (973, 0.0),\n",
              " (974, 0.0),\n",
              " (975, 0.0),\n",
              " (976, 0.0),\n",
              " (977, 0.0),\n",
              " (978, 0.0),\n",
              " (979, 0.0),\n",
              " (980, 0.010231572900396693),\n",
              " (981, 0.0),\n",
              " (982, 0.0),\n",
              " (983, 0.023771396629974902),\n",
              " (984, 0.0),\n",
              " (985, 0.0),\n",
              " (986, 0.0),\n",
              " (987, 0.009957681047340303),\n",
              " (988, 0.014341596088702955),\n",
              " (989, 0.0),\n",
              " (990, 0.0),\n",
              " (991, 0.0),\n",
              " (992, 0.0),\n",
              " (993, 0.0),\n",
              " (994, 0.0),\n",
              " (995, 0.0),\n",
              " (996, 0.0),\n",
              " (997, 0.0),\n",
              " (998, 0.0),\n",
              " (999, 0.0),\n",
              " (1000, 0.0),\n",
              " ...]"
            ]
          },
          "metadata": {
            "tags": []
          },
          "execution_count": 31
        }
      ]
    },
    {
      "cell_type": "code",
      "metadata": {
        "colab": {
          "base_uri": "https://localhost:8080/"
        },
        "id": "Cvc_xXZ5427s",
        "outputId": "f8c4fe43-c771-4626-a0d3-fabb652864cf"
      },
      "source": [
        "sim_scores = sorted(sim_scores, key=lambda x: x[1], reverse=True) # 유사도(x[1])가 높은 순서대로 정렬\r\n",
        "sim_scores[0:10] # 상위 10개의 인덱스와 유사도를 추출"
      ],
      "execution_count": 32,
      "outputs": [
        {
          "output_type": "execute_result",
          "data": {
            "text/plain": [
              "[(15282, 0.5302305777345263),\n",
              " (2979, 0.47040869969461174),\n",
              " (10271, 0.2761173868151379),\n",
              " (24316, 0.2681710907595272),\n",
              " (23646, 0.2367941443417645),\n",
              " (28893, 0.2216127763454472),\n",
              " (37778, 0.2168826902243731),\n",
              " (8303, 0.20024011436825886),\n",
              " (26945, 0.18281578621604597),\n",
              " (1058, 0.17997744529873472)]"
            ]
          },
          "metadata": {
            "tags": []
          },
          "execution_count": 32
        }
      ]
    },
    {
      "cell_type": "markdown",
      "metadata": {
        "id": "TVycYeaU5dIM"
      },
      "source": [
        "Toy Story overview 기준으로 TF-IDF 정렬한 결과"
      ]
    },
    {
      "cell_type": "code",
      "metadata": {
        "colab": {
          "base_uri": "https://localhost:8080/"
        },
        "id": "rEZBjw7R5Bjm",
        "outputId": "1601c10d-5971-4320-adf8-a6879f02a732"
      },
      "source": [
        "sim_scores = [(movie2id[i], score) for i, score in sim_scores[0:10]]\r\n",
        "sim_scores"
      ],
      "execution_count": 33,
      "outputs": [
        {
          "output_type": "execute_result",
          "data": {
            "text/plain": [
              "[('Toy Story 3', 0.5302305777345263),\n",
              " ('Toy Story 2', 0.47040869969461174),\n",
              " ('The 40 Year Old Virgin', 0.2761173868151379),\n",
              " ('Small Fry', 0.2681710907595272),\n",
              " (\"Andy Hardy's Blonde Trouble\", 0.2367941443417645),\n",
              " ('Hot Splash', 0.2216127763454472),\n",
              " ('Superstar: The Life and Times of Andy Warhol', 0.2168826902243731),\n",
              " ('The Champ', 0.20024011436825886),\n",
              " ('Life Begins for Andy Hardy', 0.18281578621604597),\n",
              " ('Rebel Without a Cause', 0.17997744529873472)]"
            ]
          },
          "metadata": {
            "tags": []
          },
          "execution_count": 33
        }
      ]
    }
  ]
}