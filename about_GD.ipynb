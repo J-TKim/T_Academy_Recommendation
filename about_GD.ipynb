{
 "cells": [
  {
   "cell_type": "markdown",
   "id": "ready-ranking",
   "metadata": {},
   "source": [
    "<table align=\"left\">\n",
    "  <td>\n",
    "    <a target=\"_blank\" href=\"https://github.com/J-TKim/T_Academy_Recommendation/blob/main/about_GD.ipynb\"><img src=\"https://www.tensorflow.org/images/colab_logo_32px.png\" />구글 코랩에서 실행하기</a>\n",
    "  </td> \n",
    "</table>"
   ]
  },
  {
   "cell_type": "markdown",
   "id": "martial-router",
   "metadata": {},
   "source": [
    "## GD 에 대해 간단하게 설명하기 위한 자료 입니다"
   ]
  },
  {
   "cell_type": "code",
   "execution_count": 1,
   "id": "completed-whole",
   "metadata": {},
   "outputs": [],
   "source": [
    "import numpy as np\n",
    "\n",
    "np.random.seed(42)"
   ]
  },
  {
   "cell_type": "markdown",
   "id": "lyric-addition",
   "metadata": {},
   "source": [
    "R: 우리가 타겟(?)으로 하는 맞춰야하는 정보!   \n",
    "    \n",
    "(row: User, col: Item) 이라고 생각합시다 "
   ]
  },
  {
   "cell_type": "code",
   "execution_count": 2,
   "id": "romantic-baker",
   "metadata": {},
   "outputs": [],
   "source": [
    "R = np.array([\n",
    "    [0, 3, 2],\n",
    "    [5, 1, 2],\n",
    "    [4, 2, 1],\n",
    "    [2, 0, 4],\n",
    "])"
   ]
  },
  {
   "cell_type": "markdown",
   "id": "bigger-division",
   "metadata": {},
   "source": [
    "- U: 유저의 정보를 담을 4 x 2 행렬\n",
    "- I: 아이템의 정보를 담을 3 x 2 행렬 (행렬 곱을 위해 2 x 3으로 전치해서 사용)\n",
    "\n",
    "- b: 각 행렬의 bias"
   ]
  },
  {
   "cell_type": "code",
   "execution_count": 3,
   "id": "ruled-diploma",
   "metadata": {},
   "outputs": [],
   "source": [
    "U = np.random.normal(size=(4, 2))\n",
    "I = np.random.normal(size=(3, 2))\n",
    "\n",
    "b_U = np.zeros(4)\n",
    "b_I = np.zeros(3)\n",
    "b = np.mean(R[np.where(R != 0)])"
   ]
  },
  {
   "cell_type": "markdown",
   "id": "italian-louisville",
   "metadata": {},
   "source": [
    "Bias 확인"
   ]
  },
  {
   "cell_type": "code",
   "execution_count": 4,
   "id": "experimental-triple",
   "metadata": {},
   "outputs": [
    {
     "name": "stdout",
     "output_type": "stream",
     "text": [
      "[0. 0. 0. 0.] [0. 0. 0.]\n"
     ]
    }
   ],
   "source": [
    "print(b_U, b_I)"
   ]
  },
  {
   "cell_type": "code",
   "execution_count": 5,
   "id": "ambient-forest",
   "metadata": {},
   "outputs": [
    {
     "data": {
      "text/plain": [
       "2.6"
      ]
     },
     "execution_count": 5,
     "metadata": {},
     "output_type": "execute_result"
    }
   ],
   "source": [
    "b"
   ]
  },
  {
   "cell_type": "markdown",
   "id": "offensive-massage",
   "metadata": {},
   "source": [
    "모든 행렬들의 shape 확인"
   ]
  },
  {
   "cell_type": "code",
   "execution_count": 6,
   "id": "empirical-romance",
   "metadata": {},
   "outputs": [
    {
     "name": "stdout",
     "output_type": "stream",
     "text": [
      "[[ 0.49671415 -0.1382643 ]\n",
      " [ 0.64768854  1.52302986]\n",
      " [-0.23415337 -0.23413696]\n",
      " [ 1.57921282  0.76743473]] (4, 2)\n"
     ]
    }
   ],
   "source": [
    "print(U, U.shape)"
   ]
  },
  {
   "cell_type": "code",
   "execution_count": 7,
   "id": "favorite-updating",
   "metadata": {},
   "outputs": [
    {
     "name": "stdout",
     "output_type": "stream",
     "text": [
      "[[-0.46947439  0.54256004]\n",
      " [-0.46341769 -0.46572975]\n",
      " [ 0.24196227 -1.91328024]] (3, 2)\n"
     ]
    }
   ],
   "source": [
    "print(I, I.shape)"
   ]
  },
  {
   "cell_type": "markdown",
   "id": "vietnamese-patrol",
   "metadata": {},
   "source": [
    "U와 I를 곱해주기 위해선 둘 중 한 행렬을 전치(Transpose)해 주어야 한다"
   ]
  },
  {
   "cell_type": "code",
   "execution_count": 8,
   "id": "funded-position",
   "metadata": {},
   "outputs": [
    {
     "name": "stdout",
     "output_type": "stream",
     "text": [
      "[[-0.46947439 -0.46341769  0.24196227]\n",
      " [ 0.54256004 -0.46572975 -1.91328024]] (2, 3)\n"
     ]
    }
   ],
   "source": [
    "print(I.T, I.T.shape)"
   ]
  },
  {
   "cell_type": "markdown",
   "id": "violent-north",
   "metadata": {},
   "source": [
    "U행렬과, Transpose한 I행렬인 I.T를 곱하는 식"
   ]
  },
  {
   "cell_type": "code",
   "execution_count": 9,
   "id": "interim-chassis",
   "metadata": {},
   "outputs": [
    {
     "data": {
      "text/plain": [
       "array([[-0.30821126, -0.16579233,  0.38472444],\n",
       "       [ 0.52226197, -1.00947065, -2.75726675],\n",
       "       [-0.01710435,  0.21755536,  0.39131333],\n",
       "       [-0.32502055, -1.08925235, -1.08620779]])"
      ]
     },
     "execution_count": 9,
     "metadata": {},
     "output_type": "execute_result"
    }
   ],
   "source": [
    "U.dot(I.T)"
   ]
  },
  {
   "cell_type": "markdown",
   "id": "bizarre-style",
   "metadata": {},
   "source": [
    "곱한 식(U.dot(I.T)과 우리의 target 행렬은 같은 생김새"
   ]
  },
  {
   "cell_type": "code",
   "execution_count": 10,
   "id": "better-gambling",
   "metadata": {},
   "outputs": [
    {
     "data": {
      "text/plain": [
       "array([[0, 3, 2],\n",
       "       [5, 1, 2],\n",
       "       [4, 2, 1],\n",
       "       [2, 0, 4]])"
      ]
     },
     "execution_count": 10,
     "metadata": {},
     "output_type": "execute_result"
    }
   ],
   "source": [
    "R"
   ]
  },
  {
   "cell_type": "markdown",
   "id": "minor-nashville",
   "metadata": {},
   "source": [
    "- reg_param: regularization을 위한 파라미터\n",
    "- learing_rate: 학습 속도 설정을 위한 파라미터"
   ]
  },
  {
   "cell_type": "code",
   "execution_count": 11,
   "id": "incorrect-attachment",
   "metadata": {},
   "outputs": [],
   "source": [
    "reg_param, learning_rate = 0.01, 0.01"
   ]
  },
  {
   "cell_type": "markdown",
   "id": "initial-international",
   "metadata": {},
   "source": [
    "U.dot(I.T) 에서 우리가 원하는 위치의 값을 가져오는 식"
   ]
  },
  {
   "cell_type": "code",
   "execution_count": 12,
   "id": "national-longer",
   "metadata": {},
   "outputs": [],
   "source": [
    "def get_prediction(i, j):\n",
    "    return b + b_U[i] + b_I[j] + U[i, :].dot(I[j, :].T)"
   ]
  },
  {
   "cell_type": "markdown",
   "id": "beneficial-junction",
   "metadata": {},
   "source": [
    "error(오차)를 계산해서 기울기(역전파)를 계산하는 함수 => back propagation"
   ]
  },
  {
   "cell_type": "code",
   "execution_count": 13,
   "id": "remarkable-cheat",
   "metadata": {},
   "outputs": [],
   "source": [
    "def gradient(error, i, j):\n",
    "    du = (error * I[j, :]) - (reg_param * U[i, :])\n",
    "    di = (error * U[i, :]) - (reg_param * I[j, :])\n",
    "    return du, di"
   ]
  },
  {
   "cell_type": "markdown",
   "id": "coral-checklist",
   "metadata": {},
   "source": [
    "위에서 구한 역전파를 기반으로 U, I행렬을 수정한다"
   ]
  },
  {
   "cell_type": "code",
   "execution_count": 14,
   "id": "alone-restaurant",
   "metadata": {},
   "outputs": [],
   "source": [
    "def gradient_descent(i, j, rating):\n",
    "    prediction = get_prediction(i, j)\n",
    "    error = rating - prediction\n",
    "\n",
    "    # updata biases\n",
    "    b_U[i] += learning_rate * (error - reg_param * b_U[i])\n",
    "    b_I[j] += learning_rate * (error - reg_param * b_I[j])\n",
    "\n",
    "    # update latent feature\n",
    "    du, di = gradient(error, i, j)\n",
    "    U[i, :] = learning_rate * du\n",
    "    I[j, :] = learning_rate * di"
   ]
  },
  {
   "cell_type": "markdown",
   "id": "august-works",
   "metadata": {},
   "source": [
    "cost함수는 R행렬와 우리가 만든 U.dot(I.T)행렬의 차이를 계산한다"
   ]
  },
  {
   "cell_type": "code",
   "execution_count": 15,
   "id": "vietnamese-robertson",
   "metadata": {},
   "outputs": [],
   "source": [
    "def cost():\n",
    "    \"\"\"\n",
    "    rmse를 계산하는 함수\n",
    "    \"\"\"\n",
    "\n",
    "    # xi, yi: R[xi, yi]는 nonzero인 value를 의미한다\n",
    "    xi, yi = R.nonzero()\n",
    "    # predicted = self.get_complete_matrix()\n",
    "    cost = 0\n",
    "    for x, y, in zip(xi, yi):\n",
    "        cost += pow(R[x, y] - get_prediction(x, y), 2)\n",
    "    return np.sqrt(cost/len(xi))"
   ]
  },
  {
   "cell_type": "markdown",
   "id": "elder-eugene",
   "metadata": {},
   "source": [
    "- R.nonzero(): R행렬의 0이 아닌 원소가 있는 위치를 반환해주는 함수"
   ]
  },
  {
   "cell_type": "code",
   "execution_count": 16,
   "id": "stuck-durham",
   "metadata": {},
   "outputs": [
    {
     "data": {
      "text/plain": [
       "(array([0, 0, 1, 1, 1, 2, 2, 2, 3, 3]), array([1, 2, 0, 1, 2, 0, 1, 2, 0, 2]))"
      ]
     },
     "execution_count": 16,
     "metadata": {},
     "output_type": "execute_result"
    }
   ],
   "source": [
    "R.nonzero()"
   ]
  },
  {
   "cell_type": "code",
   "execution_count": 17,
   "id": "dress-executive",
   "metadata": {},
   "outputs": [],
   "source": [
    "xi, yi = R.nonzero()"
   ]
  },
  {
   "cell_type": "markdown",
   "id": "aggregate-scholarship",
   "metadata": {},
   "source": [
    "위에서 얻은 위치를 기반으로 U, I행렬을 수정해준다"
   ]
  },
  {
   "cell_type": "code",
   "execution_count": 18,
   "id": "generic-viking",
   "metadata": {},
   "outputs": [],
   "source": [
    "for i, j, in zip(xi, yi):\n",
    "    \n",
    "    gradient_descent(i, j, R[i, j])"
   ]
  },
  {
   "cell_type": "code",
   "execution_count": 19,
   "id": "ambient-surface",
   "metadata": {},
   "outputs": [
    {
     "data": {
      "text/plain": [
       "array([[-1.47576716e-03,  1.16717814e-02],\n",
       "       [ 5.16603559e-08, -1.23760560e-06],\n",
       "       [-4.25602954e-09,  1.27870264e-09],\n",
       "       [ 1.39587503e-08,  5.42199469e-09]])"
      ]
     },
     "execution_count": 19,
     "metadata": {},
     "output_type": "execute_result"
    }
   ],
   "source": [
    "U"
   ]
  },
  {
   "cell_type": "code",
   "execution_count": 20,
   "id": "veterinary-memphis",
   "metadata": {},
   "outputs": [
    {
     "data": {
      "text/plain": [
       "array([[-9.87034330e-03, -1.18008251e-06, -1.97297303e-06],\n",
       "       [-4.79642736e-03, -2.52004927e-06, -8.08534192e-07]])"
      ]
     },
     "execution_count": 20,
     "metadata": {},
     "output_type": "execute_result"
    }
   ],
   "source": [
    "I.T"
   ]
  },
  {
   "cell_type": "code",
   "execution_count": 21,
   "id": "boxed-anatomy",
   "metadata": {},
   "outputs": [
    {
     "name": "stdout",
     "output_type": "stream",
     "text": [
      "[[-4.14165232e-05 -2.76719372e-08 -6.52538554e-09]\n",
      " [ 5.42617991e-09  3.05786361e-12  8.98721955e-13]\n",
      " [ 3.58752683e-11  1.80007237e-15  7.36315669e-15]\n",
      " [-1.63783861e-10 -3.01361710e-14 -3.19241060e-14]]\n"
     ]
    }
   ],
   "source": [
    "print(U.dot(I.T))"
   ]
  },
  {
   "cell_type": "code",
   "execution_count": 22,
   "id": "weekly-elephant",
   "metadata": {},
   "outputs": [
    {
     "data": {
      "text/plain": [
       "array([[0, 3, 2],\n",
       "       [5, 1, 2],\n",
       "       [4, 2, 1],\n",
       "       [2, 0, 4]])"
      ]
     },
     "execution_count": 22,
     "metadata": {},
     "output_type": "execute_result"
    }
   ],
   "source": [
    "R"
   ]
  },
  {
   "cell_type": "markdown",
   "id": "handy-knife",
   "metadata": {},
   "source": [
    "```python\n",
    "for i, j, in zip(xi, yi):\n",
    "    \n",
    "    gradient_descent(i, j, R[i, j])\n",
    "```\n",
    "\n",
    "이 셀부터 cost()까지 계속 반복해서 눌러보면 cost()값이 대부분 줄어드는 것을 볼 수 있습니다!!"
   ]
  },
  {
   "cell_type": "code",
   "execution_count": 23,
   "id": "eastern-fleece",
   "metadata": {},
   "outputs": [
    {
     "data": {
      "text/plain": [
       "1.269346280792134"
      ]
     },
     "execution_count": 23,
     "metadata": {},
     "output_type": "execute_result"
    }
   ],
   "source": [
    "cost()"
   ]
  }
 ],
 "metadata": {
  "kernelspec": {
   "display_name": "Python 3",
   "language": "python",
   "name": "python3"
  },
  "language_info": {
   "codemirror_mode": {
    "name": "ipython",
    "version": 3
   },
   "file_extension": ".py",
   "mimetype": "text/x-python",
   "name": "python",
   "nbconvert_exporter": "python",
   "pygments_lexer": "ipython3",
   "version": "3.6.10"
  }
 },
 "nbformat": 4,
 "nbformat_minor": 5
}
