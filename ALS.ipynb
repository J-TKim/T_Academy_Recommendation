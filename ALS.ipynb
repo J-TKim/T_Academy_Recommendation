{
 "cells": [
  {
   "cell_type": "code",
   "execution_count": 1,
   "id": "welsh-classroom",
   "metadata": {},
   "outputs": [],
   "source": [
    "import numpy as np\n",
    "from tqdm import tqdm_notebook as tqdm\n",
    "\n",
    "class AlternatingLeastSqeares():\n",
    "    def __init__(self, R, k, reg_param, epochs, verbose=False):\n",
    "        self._R = R\n",
    "        self._num_users, self._num_items = R.shape\n",
    "        self._k = k\n",
    "        self._reg_param = reg_param\n",
    "        self._epochs = epochs\n",
    "        self._verbose = verbose\n",
    "        \n",
    "    def fit(self):\n",
    "        # init latent features\n",
    "        self._users = np.random.normal(size=(self._num_users, self._k))\n",
    "        self._items = np.random.normal(size=(self._num_items, self._k))\n",
    "        \n",
    "        # train while epochs\n",
    "        self._training_process = []\n",
    "        self._user_error = 0; self._item_error = 0;\n",
    "        for epoch in range(self._epochs):\n",
    "            \"\"\"\n",
    "            ALS와 SGD의 차이점\n",
    "            \n",
    "            ALS는 먼저 한 행렬을 업데이트를 계속 해 수렴을 시키고, 다음 행렬을 진행한다\n",
    "            \"\"\"\n",
    "            for i, Ri in enumerate(self._R):\n",
    "                self._users[i] = self.user_latent(i, Ri)\n",
    "                self._user_error = self.cost()\n",
    "            \n",
    "            for j, Rj in enumerate(self._R.T):\n",
    "                self._items[j] = self.item_latent(j, Rj)\n",
    "                self._item_error = self.cost()\n",
    "            \n",
    "            cost = self.cost()\n",
    "            self._training_process.append((epoch, cost))\n",
    "            \n",
    "            # print status\n",
    "            if self._verbose == True and ((epoch + 1) % 10 == 0):\n",
    "                print(f'Iteration: {epoch + 1}, cost: {cost:.4f}')\n",
    "                \n",
    "    def cost(self):\n",
    "        xi, yi = self._R.nonzero()\n",
    "        cost = 0\n",
    "        for x, y in zip(xi, yi):\n",
    "            cost += pow(self._R[x, y] - self.get_prediction(x, y), 2)\n",
    "        return np.sqrt(cost/len(xi))\n",
    "\n",
    "    def user_latent(self, i, Ri):\n",
    "        du = np.linalg.solve(np.dot(self._items.T, np.dot(np.diag(Ri), self._items)) + self._reg_param * np.eye(self._k),\n",
    "                             np.dot(self._items.T, np.dot(np.diag(Ri), self._R[i].T)).T)\n",
    "        return du\n",
    "    \n",
    "    def item_latent(self, j, Rj):\n",
    "        di = np.linalg.solve(np.dot(self._users.T, np.dot(np.diag(Rj), self._users)) + self._reg_param * np.eye(self._k),\n",
    "                             np.dot(self._users.T, np.dot(np.diag(Rj), self._R[:, j])))\n",
    "        return di\n",
    "    \n",
    "    def get_prediction(self, i, j):\n",
    "        return self._users[i, :].dot(self._items[j, :].T)\n",
    "    \n",
    "    def get_complete_matrix(self):\n",
    "        return self._users.dot(self._items.T)"
   ]
  },
  {
   "cell_type": "code",
   "execution_count": 2,
   "id": "prepared-sixth",
   "metadata": {},
   "outputs": [],
   "source": [
    "R = np.array([\n",
    "    [1, 0, 0, 1, 3],\n",
    "    [2, 0, 3, 1, 1],\n",
    "    [1, 2, 0, 5, 0],\n",
    "    [1, 0, 0, 4, 4],\n",
    "    [2, 1, 5, 4, 0],\n",
    "    [5, 1, 5, 4, 0],\n",
    "    [0, 0, 0, 1, 0],\n",
    "])"
   ]
  },
  {
   "cell_type": "code",
   "execution_count": 3,
   "id": "raising-philip",
   "metadata": {},
   "outputs": [
    {
     "name": "stdout",
     "output_type": "stream",
     "text": [
      "Iteration: 10, cost: 0.0349\n",
      "Iteration: 20, cost: 0.0250\n",
      "Iteration: 30, cost: 0.0206\n",
      "Iteration: 40, cost: 0.0180\n",
      "Iteration: 50, cost: 0.0162\n",
      "Iteration: 60, cost: 0.0150\n",
      "Iteration: 70, cost: 0.0140\n",
      "Iteration: 80, cost: 0.0133\n",
      "Iteration: 90, cost: 0.0127\n",
      "Iteration: 100, cost: 0.0122\n"
     ]
    }
   ],
   "source": [
    "als = AlternatingLeastSqeares(R=R, reg_param=0.01, epochs=100, verbose=True, k=3)\n",
    "als.fit()"
   ]
  },
  {
   "cell_type": "code",
   "execution_count": 4,
   "id": "orange-discussion",
   "metadata": {},
   "outputs": [
    {
     "data": {
      "text/plain": [
       "array([[ 1.01289772, -0.99091381, -0.90728696,  0.99644965,  2.99564975],\n",
       "       [ 2.01468948,  1.22790536,  2.99175864,  1.01181884,  0.9898667 ],\n",
       "       [ 1.00680657,  1.98944532,  7.38367513,  4.99793635, -1.39564315],\n",
       "       [ 1.01458954, -1.54507718,  0.47204169,  4.0008713 ,  4.00126824],\n",
       "       [ 1.99365205,  1.04234013,  5.00015147,  4.00352397,  1.39604419],\n",
       "       [ 4.9955311 ,  0.98317156,  5.00025739,  3.99776856,  5.69978799],\n",
       "       [ 0.36442219,  0.23031643,  1.18760949,  0.99433437,  0.2071837 ]])"
      ]
     },
     "execution_count": 4,
     "metadata": {},
     "output_type": "execute_result"
    }
   ],
   "source": [
    "als.get_complete_matrix()"
   ]
  },
  {
   "cell_type": "markdown",
   "id": "known-perspective",
   "metadata": {},
   "source": [
    "```python\n",
    "def fit(self):\n",
    "    # init latent features\n",
    "    self._users = np.random.normal(size=(self._num_users, self._k))\n",
    "    self._items = np.random.normal(size=(self._num_items, self._k))\n",
    "\n",
    "    # train while epochs\n",
    "    self._training_process = []\n",
    "    self._user_error = 0; self._item_error = 0;\n",
    "    for epoch in range(self._epochs):\n",
    "        \"\"\"\n",
    "        ALS와 SGD의 차이점\n",
    "\n",
    "        ALS는 먼저 한 행렬을 업데이트를 계속 해 수렴을 시키고, 다음 행렬을 진행한다\n",
    "        \"\"\"\n",
    "        for i, Ri in enumerate(self._R):\n",
    "            self._users[i] = self.user_latent(i, Ri)\n",
    "            self._user_error = self.cost()\n",
    "\n",
    "        for j, Rj in enumerate(self._R.T):\n",
    "            self._items[j] = self.item_latent(j, Rj)\n",
    "            self._item_error = self.cost()\n",
    "\n",
    "        cost = self.cost()\n",
    "        self._training_process.append((epoch, cost))\n",
    "\n",
    "        # print status\n",
    "        if self._verbose == True and ((epoch + 1) % 10 == 0):\n",
    "            print(f'Iteration: {epoch + 1}, cost: {cost:.4f}')\n",
    "```"
   ]
  },
  {
   "cell_type": "markdown",
   "id": "alert-watson",
   "metadata": {},
   "source": [
    "```python\n",
    "def user_latent(self, i, Ri):\n",
    "    du = np.linalg.solve(np.dot(self._items.T, np.dot(np.diag(Ri), self._items)) + self._reg_param * np.eye(self._k),\n",
    "                         np.dot(self._items.T, np.dot(np.diag(Ri), self._R[i].T)).T)\n",
    "    return du\n",
    "\n",
    "def item_latent(self, j, Rj):\n",
    "    di = np.linalg.solve(np.dot(self._users.T, np.dot(np.diag(Rj), self._users)) + self._reg_param * np.eye(self._k),\n",
    "                         np.dot(self._users.T, np.dot(np.diag(Rj), self._R[:, j])))\n",
    "```"
   ]
  }
 ],
 "metadata": {
  "kernelspec": {
   "display_name": "Python 3",
   "language": "python",
   "name": "python3"
  },
  "language_info": {
   "codemirror_mode": {
    "name": "ipython",
    "version": 3
   },
   "file_extension": ".py",
   "mimetype": "text/x-python",
   "name": "python",
   "nbconvert_exporter": "python",
   "pygments_lexer": "ipython3",
   "version": "3.6.10"
  }
 },
 "nbformat": 4,
 "nbformat_minor": 5
}
